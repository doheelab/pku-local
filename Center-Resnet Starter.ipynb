{
 "cells": [
  {
   "cell_type": "markdown",
   "metadata": {},
   "source": [
    "# CenterResnet Starter\n"
   ]
  },
  {
   "cell_type": "markdown",
   "metadata": {},
   "source": [
    "I am very new to these concepts so I am trying out by changing this amazing and probably only 3D model related awesome public kernel by Ruslan\n",
    "https://www.kaggle.com/hocop1/centernet-baseline\n",
    "\n",
    "Most of the codes are loaned from there . There are other codes that I took from OFT implementation github . But I dont know what is OFT , so I have not yet implemented it . \n",
    "\n",
    "My current score is not from this kernel( as there are some errors in this kernel) , but from some simple architecture modification of the original public kernel. \n"
   ]
  },
  {
   "cell_type": "code",
   "execution_count": 1,
   "metadata": {
    "_cell_guid": "b1076dfc-b9ad-4769-8c92-a6c4dae69d19",
    "_kg_hide-input": true,
    "_kg_hide-output": true,
    "_uuid": "8f2839f25d086af736a60e9eeb907d3b93b6e0e5"
   },
   "outputs": [
    {
     "data": {
      "text/plain": [
       "['car_models_json',\n",
       " 'test_masks.zip',\n",
       " 'test_images',\n",
       " 'test_images.zip',\n",
       " 'sample_submission.csv',\n",
       " 'car_models',\n",
       " 'train.csv',\n",
       " 'camera.zip',\n",
       " 'test_masks',\n",
       " 'train_masks',\n",
       " 'car_models_json.zip',\n",
       " 'train_masks.zip',\n",
       " 'train_images',\n",
       " 'camera',\n",
       " 'train_images.zip',\n",
       " 'car_models.zip']"
      ]
     },
     "execution_count": 1,
     "metadata": {},
     "output_type": "execute_result"
    }
   ],
   "source": [
    "import numpy as np # linear algebra\n",
    "import pandas as pd # data processing, CSV file I/O (e.g. pd.read_csv)\n",
    "import cv2\n",
    "from tqdm import tqdm_notebook as tqdm\n",
    "import matplotlib.pyplot as plt\n",
    "import seaborn as sns\n",
    "from functools import reduce\n",
    "import os\n",
    "from sklearn.model_selection import train_test_split\n",
    "from scipy.optimize import minimize\n",
    "from tqdm.auto import tqdm as tq\n",
    "import torch\n",
    "import torch.nn as nn\n",
    "import torch.nn.functional as F\n",
    "import torch.optim as optim\n",
    "from torch.optim import lr_scheduler\n",
    "from torch.utils.data import Dataset, DataLoader\n",
    "from torchvision import models\n",
    "from torchvision import transforms, utils\n",
    "\n",
    "PATH = '../input/pku-autonomous-driving/'\n",
    "os.listdir(PATH)"
   ]
  },
  {
   "cell_type": "code",
   "execution_count": 2,
   "metadata": {},
   "outputs": [],
   "source": [
    "## Constants\n",
    "SWITCH_LOSS_EPOCH = 5"
   ]
  },
  {
   "cell_type": "markdown",
   "metadata": {},
   "source": [
    "# Load data"
   ]
  },
  {
   "cell_type": "code",
   "execution_count": 3,
   "metadata": {
    "_cell_guid": "79c7e3d0-c299-4dcb-8224-4455121ee9b0",
    "_kg_hide-input": true,
    "_uuid": "d629ff2d2480ee46fbb7e2d37f6b5fab8052498a"
   },
   "outputs": [
    {
     "data": {
      "text/html": [
       "<div>\n",
       "<style scoped>\n",
       "    .dataframe tbody tr th:only-of-type {\n",
       "        vertical-align: middle;\n",
       "    }\n",
       "\n",
       "    .dataframe tbody tr th {\n",
       "        vertical-align: top;\n",
       "    }\n",
       "\n",
       "    .dataframe thead th {\n",
       "        text-align: right;\n",
       "    }\n",
       "</style>\n",
       "<table border=\"1\" class=\"dataframe\">\n",
       "  <thead>\n",
       "    <tr style=\"text-align: right;\">\n",
       "      <th></th>\n",
       "      <th>ImageId</th>\n",
       "      <th>PredictionString</th>\n",
       "    </tr>\n",
       "  </thead>\n",
       "  <tbody>\n",
       "    <tr>\n",
       "      <th>0</th>\n",
       "      <td>ID_8a6e65317</td>\n",
       "      <td>16 0.254839 -2.57534 -3.10256 7.96539 3.20066 ...</td>\n",
       "    </tr>\n",
       "    <tr>\n",
       "      <th>1</th>\n",
       "      <td>ID_337ddc495</td>\n",
       "      <td>66 0.163988 0.192169 -3.12112 -3.17424 6.55331...</td>\n",
       "    </tr>\n",
       "    <tr>\n",
       "      <th>2</th>\n",
       "      <td>ID_a381bf4d0</td>\n",
       "      <td>43 0.162877 0.00519276 -3.02676 2.1876 3.53427...</td>\n",
       "    </tr>\n",
       "    <tr>\n",
       "      <th>3</th>\n",
       "      <td>ID_7c4a3e0aa</td>\n",
       "      <td>43 0.126957 -3.04442 -3.10883 -14.738 24.6389 ...</td>\n",
       "    </tr>\n",
       "    <tr>\n",
       "      <th>4</th>\n",
       "      <td>ID_8b510fad6</td>\n",
       "      <td>37 0.16017 0.00862796 -3.0887 -3.04548 3.4977 ...</td>\n",
       "    </tr>\n",
       "  </tbody>\n",
       "</table>\n",
       "</div>"
      ],
      "text/plain": [
       "        ImageId                                   PredictionString\n",
       "0  ID_8a6e65317  16 0.254839 -2.57534 -3.10256 7.96539 3.20066 ...\n",
       "1  ID_337ddc495  66 0.163988 0.192169 -3.12112 -3.17424 6.55331...\n",
       "2  ID_a381bf4d0  43 0.162877 0.00519276 -3.02676 2.1876 3.53427...\n",
       "3  ID_7c4a3e0aa  43 0.126957 -3.04442 -3.10883 -14.738 24.6389 ...\n",
       "4  ID_8b510fad6  37 0.16017 0.00862796 -3.0887 -3.04548 3.4977 ..."
      ]
     },
     "execution_count": 3,
     "metadata": {},
     "output_type": "execute_result"
    }
   ],
   "source": [
    "train = pd.read_csv(PATH + 'train.csv')\n",
    "test = pd.read_csv(PATH + 'sample_submission.csv')\n",
    "\n",
    "# From camera.zip\n",
    "camera_matrix = np.array([[2304.5479, 0,  1686.2379],\n",
    "                          [0, 2305.8757, 1354.9849],\n",
    "                          [0, 0, 1]], dtype=np.float32)\n",
    "camera_matrix_inv = np.linalg.inv(camera_matrix)\n",
    "\n",
    "train.head()"
   ]
  },
  {
   "cell_type": "markdown",
   "metadata": {},
   "source": [
    "**ImageId** column contains names of images:"
   ]
  },
  {
   "cell_type": "code",
   "execution_count": 4,
   "metadata": {
    "_kg_hide-input": true
   },
   "outputs": [],
   "source": [
    "def imread(path, fast_mode=False):\n",
    "    img = cv2.imread(path)\n",
    "    if not fast_mode and img is not None and len(img.shape) == 3:\n",
    "        img = np.array(img[:, :, ::-1])\n",
    "    return img\n",
    "\n",
    "img = imread(PATH + 'train_images/ID_8a6e65317' + '.jpg')\n",
    "IMG_SHAPE = img.shape\n",
    "\n",
    "#plt.figure(figsize=(15,8))\n",
    "#plt.imshow(img);"
   ]
  },
  {
   "cell_type": "code",
   "execution_count": 5,
   "metadata": {},
   "outputs": [],
   "source": [
    "def str2coords(s, names=['id', 'yaw', 'pitch', 'roll', 'x', 'y', 'z']):\n",
    "    '''\n",
    "    Input:\n",
    "        s: PredictionString (e.g. from train dataframe)\n",
    "        names: array of what to extract from the string\n",
    "    Output:\n",
    "        list of dicts with keys from `names`\n",
    "    '''\n",
    "    coords = []\n",
    "    for l in np.array(s.split()).reshape([-1, 7]):\n",
    "        coords.append(dict(zip(names, l.astype('float'))))\n",
    "        if 'id' in coords[-1]:\n",
    "            coords[-1]['id'] = int(coords[-1]['id'])\n",
    "    return coords"
   ]
  },
  {
   "cell_type": "code",
   "execution_count": 6,
   "metadata": {
    "_kg_hide-input": true
   },
   "outputs": [
    {
     "name": "stdout",
     "output_type": "stream",
     "text": [
      "Example input:\n",
      " 16 0.254839 -2.57534 -3.10256 7.96539 3.20066 11.0225 56 0.181647 -1.46947 -3.12159 9.60332 4.66632 19.339 70 0.163072 -1.56865 -3.11754 10.39 11.2219 59.7825 70 0.141942 -3.1395 3.11969 -9.59236 5.13662 24.7337 46 0.163068 -2.08578 -3.11754 9.83335 13.2689 72.9323\n",
      "\n",
      "Output:\n",
      " [{'id': 16, 'yaw': 0.254839, 'pitch': -2.57534, 'roll': -3.10256, 'x': 7.96539, 'y': 3.20066, 'z': 11.0225}, {'id': 56, 'yaw': 0.181647, 'pitch': -1.46947, 'roll': -3.12159, 'x': 9.60332, 'y': 4.66632, 'z': 19.339}, {'id': 70, 'yaw': 0.163072, 'pitch': -1.56865, 'roll': -3.11754, 'x': 10.39, 'y': 11.2219, 'z': 59.7825}, {'id': 70, 'yaw': 0.141942, 'pitch': -3.1395, 'roll': 3.11969, 'x': -9.59236, 'y': 5.13662, 'z': 24.7337}, {'id': 46, 'yaw': 0.163068, 'pitch': -2.08578, 'roll': -3.11754, 'x': 9.83335, 'y': 13.2689, 'z': 72.9323}]\n"
     ]
    }
   ],
   "source": [
    "inp = train['PredictionString'][0]\n",
    "print('Example input:\\n', inp)\n",
    "print()\n",
    "print('Output:\\n', str2coords(inp))"
   ]
  },
  {
   "cell_type": "markdown",
   "metadata": {},
   "source": [
    "# Data distributions"
   ]
  },
  {
   "cell_type": "code",
   "execution_count": 7,
   "metadata": {
    "_kg_hide-input": true
   },
   "outputs": [],
   "source": [
    "lens = [len(str2coords(s)) for s in train['PredictionString']]\n",
    "\n",
    "#plt.figure(figsize=(15,6))\n",
    "#sns.countplot(lens);\n",
    "#plt.xlabel('Number of cars in image');"
   ]
  },
  {
   "cell_type": "code",
   "execution_count": 8,
   "metadata": {
    "_kg_hide-input": true
   },
   "outputs": [],
   "source": [
    "# plt.figure(figsize=(15,6))\n",
    "# sns.distplot(reduce(lambda a, b: a + b, [[c['x'] for c in str2coords(s)] for s in train['PredictionString']]), bins=500);\n",
    "# # sns.distplot([str2coords(s)[0]['x'] for s in train['PredictionString']]);\n",
    "# plt.xlabel('x')\n",
    "# plt.show()"
   ]
  },
  {
   "cell_type": "code",
   "execution_count": 9,
   "metadata": {
    "_kg_hide-input": true
   },
   "outputs": [],
   "source": [
    "# plt.figure(figsize=(15,6))\n",
    "# sns.distplot(reduce(lambda a, b: a + b, [[c['y'] for c in str2coords(s)] for s in train['PredictionString']]), bins=500);\n",
    "# plt.xlabel('y')\n",
    "# plt.show()"
   ]
  },
  {
   "cell_type": "code",
   "execution_count": 10,
   "metadata": {
    "_kg_hide-input": true
   },
   "outputs": [],
   "source": [
    "# plt.figure(figsize=(15,6))\n",
    "# sns.distplot(reduce(lambda a, b: a + b, [[c['z'] for c in str2coords(s)] for s in train['PredictionString']]), bins=500);\n",
    "# plt.xlabel('z')\n",
    "# plt.show()"
   ]
  },
  {
   "cell_type": "code",
   "execution_count": 11,
   "metadata": {
    "_kg_hide-input": true
   },
   "outputs": [],
   "source": [
    "# plt.figure(figsize=(15,6))\n",
    "# sns.distplot(reduce(lambda a, b: a + b, [[c['yaw'] for c in str2coords(s)] for s in train['PredictionString']]));\n",
    "# plt.xlabel('yaw')\n",
    "# plt.show()"
   ]
  },
  {
   "cell_type": "code",
   "execution_count": 12,
   "metadata": {
    "_kg_hide-input": true
   },
   "outputs": [
    {
     "data": {
      "image/png": "[encoded data removed]",
      "text/plain": [
       "<Figure size 1080x432 with 1 Axes>"
      ]
     },
     "metadata": {
      "needs_background": "light"
     },
     "output_type": "display_data"
    }
   ],
   "source": [
    "plt.figure(figsize=(15,6))\n",
    "sns.distplot(reduce(lambda a, b: a + b, [[c['pitch'] for c in str2coords(s)] for s in train['PredictionString']]));\n",
    "plt.xlabel('pitch')\n",
    "plt.show()"
   ]
  },
  {
   "cell_type": "markdown",
   "metadata": {},
   "source": [
    "I guess, pitch and yaw are mixed up in this dataset. Pitch cannot be that big. That would mean that cars are upside down."
   ]
  },
  {
   "cell_type": "code",
   "execution_count": 13,
   "metadata": {
    "_kg_hide-input": true
   },
   "outputs": [],
   "source": [
    "def rotate(x, angle):\n",
    "    x = x + angle\n",
    "    x = x - (x + np.pi) // (2 * np.pi) * 2 * np.pi\n",
    "    return x\n",
    "\n",
    "# plt.figure(figsize=(15,6))\n",
    "# sns.distplot(reduce(lambda a, b: a + b, [[rotate(c['roll'], np.pi) for c in str2coords(s)] for s in train['PredictionString']]));\n",
    "# plt.xlabel('roll rotated by pi')\n",
    "# plt.show()"
   ]
  },
  {
   "cell_type": "markdown",
   "metadata": {},
   "source": [
    "# 2D Visualization"
   ]
  },
  {
   "cell_type": "code",
   "execution_count": 14,
   "metadata": {},
   "outputs": [],
   "source": [
    "def get_img_coords(s):\n",
    "    '''\n",
    "    Input is a PredictionString (e.g. from train dataframe)\n",
    "    Output is two arrays:\n",
    "        xs: x coordinates in the image\n",
    "        ys: y coordinates in the image\n",
    "    '''\n",
    "    coords = str2coords(s)\n",
    "    xs = [c['x'] for c in coords]\n",
    "    ys = [c['y'] for c in coords]\n",
    "    zs = [c['z'] for c in coords]\n",
    "    P = np.array(list(zip(xs, ys, zs))).T\n",
    "    img_p = np.dot(camera_matrix, P).T\n",
    "    img_p[:, 0] /= img_p[:, 2]\n",
    "    img_p[:, 1] /= img_p[:, 2]\n",
    "    img_xs = img_p[:, 0]\n",
    "    img_ys = img_p[:, 1]\n",
    "    img_zs = img_p[:, 2] # z = Distance from the camera\n",
    "    return img_xs, img_ys\n",
    "\n",
    "#plt.figure(figsize=(14,14))\n",
    "#plt.imshow(imread(PATH + 'train_images/' + train['ImageId'][2217] + '.jpg'))\n",
    "#plt.scatter(*get_img_coords(train['PredictionString'][2217]), color='red', s=100);"
   ]
  },
  {
   "cell_type": "markdown",
   "metadata": {},
   "source": [
    "One point is out of image!"
   ]
  },
  {
   "cell_type": "markdown",
   "metadata": {},
   "source": [
    "Let's look at the distribution of all points. Image is here just for reference."
   ]
  },
  {
   "cell_type": "code",
   "execution_count": 15,
   "metadata": {
    "_kg_hide-input": true
   },
   "outputs": [],
   "source": [
    "# xs, ys = [], []\n",
    "\n",
    "# for ps in train['PredictionString']:\n",
    "#     x, y = get_img_coords(ps)\n",
    "#     xs += list(x)\n",
    "#     ys += list(y)\n",
    "\n",
    "# plt.figure(figsize=(18,18))\n",
    "# plt.imshow(imread(PATH + 'train_images/' + train['ImageId'][2217] + '.jpg'), alpha=0.3)\n",
    "# plt.scatter(xs, ys, color='red', s=10, alpha=0.2);"
   ]
  },
  {
   "cell_type": "markdown",
   "metadata": {},
   "source": [
    "Many points are outside!"
   ]
  },
  {
   "cell_type": "markdown",
   "metadata": {},
   "source": [
    "Let's look at this distribution \"from the sky\""
   ]
  },
  {
   "cell_type": "code",
   "execution_count": 16,
   "metadata": {
    "_kg_hide-input": true
   },
   "outputs": [],
   "source": [
    "# # Cars points\n",
    "# xs, ys = [], []\n",
    "# for ps in train['PredictionString']:\n",
    "#     coords = str2coords(ps)\n",
    "#     xs += [c['x'] for c in coords]\n",
    "#     ys += [c['y'] for c in coords]\n",
    "\n",
    "# # Road points\n",
    "# road_width = 6\n",
    "# road_xs = [-road_width, road_width, road_width, -road_width, -road_width]\n",
    "# road_ys = [0, 0, 500, 500, 0]\n",
    "\n",
    "# plt.figure(figsize=(16,16))\n",
    "# plt.axes().set_aspect(1)\n",
    "# # View road\n",
    "# plt.fill(road_xs, road_ys, alpha=0.2, color='gray')\n",
    "# plt.plot([road_width/2,road_width/2], [0,500], alpha=0.4, linewidth=4, color='white', ls='--')\n",
    "# plt.plot([-road_width/2,-road_width/2], [0,500], alpha=0.4, linewidth=4, color='white', ls='--')\n",
    "# # View cars\n",
    "# plt.scatter(xs, ys, color='red', s=20, alpha=0.2);"
   ]
  },
  {
   "cell_type": "markdown",
   "metadata": {},
   "source": [
    "Some points are very far away\n",
    "\n",
    "Scale up"
   ]
  },
  {
   "cell_type": "code",
   "execution_count": 17,
   "metadata": {
    "_kg_hide-input": true
   },
   "outputs": [],
   "source": [
    "# plt.figure(figsize=(16,16))\n",
    "# plt.axes().set_aspect(1)\n",
    "# plt.xlim(-50,50)\n",
    "# plt.ylim(0,50)\n",
    "\n",
    "# # View road\n",
    "# plt.fill(road_xs, road_ys, alpha=0.2, color='gray')\n",
    "# plt.plot([road_width/2,road_width/2], [0,100], alpha=0.4, linewidth=4, color='white', ls='--')\n",
    "# plt.plot([-road_width/2,-road_width/2], [0,100], alpha=0.4, linewidth=4, color='white', ls='--')\n",
    "# # View cars\n",
    "# plt.scatter(xs, ys, color='red', s=10, alpha=0.1);"
   ]
  },
  {
   "cell_type": "markdown",
   "metadata": {},
   "source": [
    "# 3D Visualization\n",
    "Used code from https://www.kaggle.com/zstusnoopy/visualize-the-location-and-3d-bounding-box-of-car, but made it one function"
   ]
  },
  {
   "cell_type": "code",
   "execution_count": 18,
   "metadata": {
    "_kg_hide-input": true
   },
   "outputs": [],
   "source": [
    "from math import sin, cos\n",
    "\n",
    "# convert euler angle to rotation matrix\n",
    "def euler_to_Rot(yaw, pitch, roll):\n",
    "    Y = np.array([[cos(yaw), 0, sin(yaw)],\n",
    "                  [0, 1, 0],\n",
    "                  [-sin(yaw), 0, cos(yaw)]])\n",
    "    P = np.array([[1, 0, 0],\n",
    "                  [0, cos(pitch), -sin(pitch)],\n",
    "                  [0, sin(pitch), cos(pitch)]])\n",
    "    R = np.array([[cos(roll), -sin(roll), 0],\n",
    "                  [sin(roll), cos(roll), 0],\n",
    "                  [0, 0, 1]])\n",
    "    return np.dot(Y, np.dot(P, R))"
   ]
  },
  {
   "cell_type": "code",
   "execution_count": 19,
   "metadata": {
    "_kg_hide-input": true
   },
   "outputs": [],
   "source": [
    "def draw_line(image, points):\n",
    "    color = (255, 0, 0)\n",
    "    cv2.line(image, tuple(points[0][:2]), tuple(points[3][:2]), color, 16)\n",
    "    cv2.line(image, tuple(points[0][:2]), tuple(points[1][:2]), color, 16)\n",
    "    cv2.line(image, tuple(points[1][:2]), tuple(points[2][:2]), color, 16)\n",
    "    cv2.line(image, tuple(points[2][:2]), tuple(points[3][:2]), color, 16)\n",
    "    return image\n",
    "\n",
    "\n",
    "def draw_points(image, points):\n",
    "    for (p_x, p_y, p_z) in points:\n",
    "        cv2.circle(image, (p_x, p_y), int(1000 / p_z), (0, 255, 0), -1)\n",
    "#         if p_x > image.shape[1] or p_y > image.shape[0]:\n",
    "#             print('Point', p_x, p_y, 'is out of image with shape', image.shape)\n",
    "    return image"
   ]
  },
  {
   "cell_type": "code",
   "execution_count": 20,
   "metadata": {},
   "outputs": [],
   "source": [
    "def visualize(img, coords):\n",
    "    # You will also need functions from the previous cells\n",
    "    x_l = 1.02\n",
    "    y_l = 0.80\n",
    "    z_l = 2.31\n",
    "    \n",
    "    img = img.copy()\n",
    "    for point in coords:\n",
    "        # Get values\n",
    "        x, y, z = point['x'], point['y'], point['z']\n",
    "        yaw, pitch, roll = -point['pitch'], -point['yaw'], -point['roll']\n",
    "        # Math\n",
    "        Rt = np.eye(4)\n",
    "        t = np.array([x, y, z])\n",
    "        Rt[:3, 3] = t\n",
    "        Rt[:3, :3] = euler_to_Rot(yaw, pitch, roll).T\n",
    "        Rt = Rt[:3, :]\n",
    "        P = np.array([[x_l, -y_l, -z_l, 1],\n",
    "                      [x_l, -y_l, z_l, 1],\n",
    "                      [-x_l, -y_l, z_l, 1],\n",
    "                      [-x_l, -y_l, -z_l, 1],\n",
    "                      [0, 0, 0, 1]]).T\n",
    "        img_cor_points = np.dot(camera_matrix, np.dot(Rt, P))\n",
    "        img_cor_points = img_cor_points.T\n",
    "        img_cor_points[:, 0] /= img_cor_points[:, 2]\n",
    "        img_cor_points[:, 1] /= img_cor_points[:, 2]\n",
    "        img_cor_points = img_cor_points.astype(int)\n",
    "        # Drawing\n",
    "        img = draw_line(img, img_cor_points)\n",
    "        img = draw_points(img, img_cor_points[-1:])\n",
    "    \n",
    "    return img"
   ]
  },
  {
   "cell_type": "code",
   "execution_count": 21,
   "metadata": {
    "_kg_hide-input": true
   },
   "outputs": [],
   "source": [
    "# n_rows = 6\n",
    "\n",
    "# for idx in range(n_rows):\n",
    "#     fig, axes = plt.subplots(1, 2, figsize=(20,20))\n",
    "#     img = imread(PATH + 'train_images/' + train['ImageId'].iloc[idx] + '.jpg')\n",
    "#     axes[0].imshow(img)\n",
    "#     img_vis = visualize(img, str2coords(train['PredictionString'].iloc[idx]))\n",
    "#     axes[1].imshow(img_vis)\n",
    "#     plt.show()"
   ]
  },
  {
   "cell_type": "markdown",
   "metadata": {},
   "source": [
    "# Image preprocessing"
   ]
  },
  {
   "cell_type": "code",
   "execution_count": 22,
   "metadata": {},
   "outputs": [],
   "source": [
    "IMG_WIDTH = 2048\n",
    "IMG_HEIGHT = IMG_WIDTH // 4\n",
    "MODEL_SCALE = 8\n",
    "\n",
    "def _regr_preprocess(regr_dict):\n",
    "    for name in ['x', 'y', 'z']:\n",
    "        regr_dict[name] = regr_dict[name] / 100\n",
    "    regr_dict['roll'] = rotate(regr_dict['roll'], np.pi)\n",
    "    regr_dict['pitch_sin'] = sin(regr_dict['pitch'])\n",
    "    regr_dict['pitch_cos'] = cos(regr_dict['pitch'])\n",
    "    regr_dict.pop('pitch')\n",
    "    regr_dict.pop('id')\n",
    "    return regr_dict\n",
    "\n",
    "def _regr_back(regr_dict):\n",
    "    for name in ['x', 'y', 'z']:\n",
    "        regr_dict[name] = regr_dict[name] * 100\n",
    "    regr_dict['roll'] = rotate(regr_dict['roll'], -np.pi)\n",
    "    \n",
    "    pitch_sin = regr_dict['pitch_sin'] / np.sqrt(regr_dict['pitch_sin']**2 + regr_dict['pitch_cos']**2)\n",
    "    pitch_cos = regr_dict['pitch_cos'] / np.sqrt(regr_dict['pitch_sin']**2 + regr_dict['pitch_cos']**2)\n",
    "    regr_dict['pitch'] = np.arccos(pitch_cos) * np.sign(pitch_sin)\n",
    "    return regr_dict\n",
    "\n",
    "def preprocess_image(img):\n",
    "    img = img[img.shape[0] //2 :]\n",
    "    bg = np.ones_like(img) * img.mean(1, keepdims=True).astype(img.dtype)\n",
    "    bg = bg[:, :img.shape[1] // 4]\n",
    "    img = np.concatenate([bg, img, bg], 1)\n",
    "    img = cv2.resize(img, (IMG_WIDTH, IMG_HEIGHT))\n",
    "    return (img / 255).astype('float32')\n",
    "\n",
    "def get_mask_and_regr(img, labels):\n",
    "    mask = np.zeros([IMG_HEIGHT // MODEL_SCALE, IMG_WIDTH // MODEL_SCALE], dtype='float32')\n",
    "    regr_names = ['x', 'y', 'z', 'yaw', 'pitch', 'roll']\n",
    "    regr = np.zeros([IMG_HEIGHT // MODEL_SCALE, IMG_WIDTH // MODEL_SCALE, 7], dtype='float32')\n",
    "    coords = str2coords(labels)\n",
    "    xs, ys = get_img_coords(labels)\n",
    "    for x, y, regr_dict in zip(xs, ys, coords):\n",
    "        x, y = y, x\n",
    "        x = (x - img.shape[0] // 2) * IMG_HEIGHT / (img.shape[0] // 2) / MODEL_SCALE\n",
    "        x = np.round(x).astype('int')\n",
    "        y = (y + img.shape[1] // 4) * IMG_WIDTH / (img.shape[1] * 1.5) / MODEL_SCALE\n",
    "        y = np.round(y).astype('int')\n",
    "        if x >= 0 and x < IMG_HEIGHT // MODEL_SCALE and y >= 0 and y < IMG_WIDTH // MODEL_SCALE:\n",
    "            mask[x, y] = 1\n",
    "            regr_dict = _regr_preprocess(regr_dict)\n",
    "            regr[x, y] = [regr_dict[n] for n in sorted(regr_dict)]\n",
    "    return mask, regr"
   ]
  },
  {
   "cell_type": "code",
   "execution_count": 23,
   "metadata": {},
   "outputs": [
    {
     "name": "stdout",
     "output_type": "stream",
     "text": [
      "img.shape (512, 2048, 3) std: 0.28713036\n",
      "mask.shape (64, 256) std: 0.017466618\n",
      "regr.shape (64, 256, 7) std: 0.007385718\n"
     ]
    },
    {
     "data": {
      "image/png": "[encoded data removed]",
      "text/plain": [
       "<Figure size 1152x1152 with 1 Axes>"
      ]
     },
     "metadata": {
      "needs_background": "light"
     },
     "output_type": "display_data"
    },
    {
     "data": {
      "image/png": "[encoded data removed]",
      "text/plain": [
       "<Figure size 1152x1152 with 1 Axes>"
      ]
     },
     "metadata": {
      "needs_background": "light"
     },
     "output_type": "display_data"
    },
    {
     "data": {
      "image/png": "[encoded data removed]",
      "text/plain": [
       "<Figure size 1152x1152 with 1 Axes>"
      ]
     },
     "metadata": {
      "needs_background": "light"
     },
     "output_type": "display_data"
    }
   ],
   "source": [
    "img0 = imread(PATH + 'train_images/' + train['ImageId'][0] + '.jpg')\n",
    "img = preprocess_image(img0)\n",
    "\n",
    "mask, regr = get_mask_and_regr(img0, train['PredictionString'][0])\n",
    "\n",
    "print('img.shape', img.shape, 'std:', np.std(img))\n",
    "print('mask.shape', mask.shape, 'std:', np.std(mask))\n",
    "print('regr.shape', regr.shape, 'std:', np.std(regr))\n",
    "\n",
    "plt.figure(figsize=(16,16))\n",
    "plt.title('Processed image')\n",
    "plt.imshow(img)\n",
    "plt.show()\n",
    "\n",
    "plt.figure(figsize=(16,16))\n",
    "plt.title('Detection Mask')\n",
    "plt.imshow(mask)\n",
    "plt.show()\n",
    "plt.figure(figsize=(16,16))\n",
    "plt.title('Yaw values')\n",
    "plt.imshow(regr[:,:,-2])\n",
    "plt.show()"
   ]
  },
  {
   "cell_type": "markdown",
   "metadata": {},
   "source": [
    "# PyTorch Dataset"
   ]
  },
  {
   "cell_type": "code",
   "execution_count": 24,
   "metadata": {
    "_kg_hide-input": true,
    "_kg_hide-output": true
   },
   "outputs": [],
   "source": [
    "class CarDataset(Dataset):\n",
    "    \"\"\"Car dataset.\"\"\"\n",
    "\n",
    "    def __init__(self, dataframe, root_dir, training=True, transform=None):\n",
    "        self.df = dataframe\n",
    "        self.root_dir = root_dir\n",
    "        self.transform = transform\n",
    "        self.training = training\n",
    "\n",
    "    def __len__(self):\n",
    "        return len(self.df)\n",
    "\n",
    "    def __getitem__(self, idx):\n",
    "        if torch.is_tensor(idx):\n",
    "            idx = idx.tolist()\n",
    "        \n",
    "        # Get image name\n",
    "        idx, labels = self.df.values[idx]\n",
    "        img_name = self.root_dir.format(idx)\n",
    "        \n",
    "        # Read image\n",
    "        img0 = imread(img_name, True)\n",
    "        img = preprocess_image(img0)\n",
    "        img = np.rollaxis(img, 2, 0)\n",
    "        \n",
    "        # Get mask and regression maps\n",
    "        if self.training:\n",
    "            mask, regr = get_mask_and_regr(img0, labels)\n",
    "            regr = np.rollaxis(regr, 2, 0)\n",
    "        else:\n",
    "            mask, regr = 0, 0\n",
    "        \n",
    "        return [img, mask, regr]"
   ]
  },
  {
   "cell_type": "code",
   "execution_count": 25,
   "metadata": {
    "_kg_hide-input": true
   },
   "outputs": [],
   "source": [
    "train_images_dir = PATH + 'train_images/{}.jpg'\n",
    "test_images_dir = PATH + 'test_images/{}.jpg'\n",
    "\n",
    "df_train, df_dev = train_test_split(train, test_size=0.01, random_state=42)\n",
    "df_test = test\n",
    "\n",
    "# Create dataset objects\n",
    "train_dataset = CarDataset(df_train, train_images_dir)\n",
    "dev_dataset = CarDataset(df_dev, train_images_dir)\n",
    "test_dataset = CarDataset(df_test, test_images_dir)"
   ]
  },
  {
   "cell_type": "code",
   "execution_count": null,
   "metadata": {},
   "outputs": [],
   "source": []
  },
  {
   "cell_type": "markdown",
   "metadata": {},
   "source": [
    "Show some generated examples"
   ]
  },
  {
   "cell_type": "code",
   "execution_count": 26,
   "metadata": {
    "_kg_hide-input": true
   },
   "outputs": [],
   "source": [
    "# img, mask, regr = train_dataset[0]\n",
    "\n",
    "# plt.figure(figsize=(16,16))\n",
    "# plt.imshow(np.rollaxis(img, 0, 3))\n",
    "# plt.show()\n",
    "\n",
    "# plt.figure(figsize=(16,16))\n",
    "# plt.imshow(mask)\n",
    "# plt.show()\n",
    "\n",
    "# plt.figure(figsize=(16,16))\n",
    "# plt.imshow(regr[-2])\n",
    "# plt.show()"
   ]
  },
  {
   "cell_type": "code",
   "execution_count": 27,
   "metadata": {
    "_kg_hide-input": true
   },
   "outputs": [],
   "source": [
    "BATCH_SIZE = 8\n",
    "\n",
    "# Create data generators - they will produce batches\n",
    "train_loader = DataLoader(dataset=train_dataset, batch_size=BATCH_SIZE, shuffle=True, num_workers=4)\n",
    "dev_loader = DataLoader(dataset=dev_dataset, batch_size=BATCH_SIZE, shuffle=False, num_workers=4)\n",
    "test_loader = DataLoader(dataset=test_dataset, batch_size=BATCH_SIZE, shuffle=False, num_workers=4)"
   ]
  },
  {
   "cell_type": "code",
   "execution_count": null,
   "metadata": {},
   "outputs": [],
   "source": []
  },
  {
   "cell_type": "code",
   "execution_count": null,
   "metadata": {},
   "outputs": [],
   "source": []
  },
  {
   "cell_type": "code",
   "execution_count": null,
   "metadata": {},
   "outputs": [],
   "source": []
  },
  {
   "cell_type": "markdown",
   "metadata": {},
   "source": [
    "# PyTorch Model"
   ]
  },
  {
   "cell_type": "code",
   "execution_count": 28,
   "metadata": {
    "_kg_hide-input": true
   },
   "outputs": [],
   "source": [
    "class double_conv(nn.Module):\n",
    "    '''(conv => BN => ReLU) * 2'''\n",
    "    def __init__(self, in_ch, out_ch):\n",
    "        super(double_conv, self).__init__()\n",
    "        self.conv = nn.Sequential(\n",
    "            nn.Conv2d(in_ch, out_ch, 3, padding=1),\n",
    "            nn.BatchNorm2d(out_ch),\n",
    "            nn.ReLU(inplace=True),\n",
    "            nn.Conv2d(out_ch, out_ch, 3, padding=1),\n",
    "            nn.BatchNorm2d(out_ch),\n",
    "            nn.ReLU(inplace=True)\n",
    "        )\n",
    "\n",
    "    def forward(self, x):\n",
    "        x = self.conv(x)\n",
    "        return x\n",
    "\n",
    "class up(nn.Module):\n",
    "    def __init__(self, in_ch, out_ch, bilinear=True):\n",
    "        super(up, self).__init__()\n",
    "\n",
    "        #  would be a nice idea if the upsampling could be learned too,\n",
    "        #  but my machine do not have enough memory to handle all those weights\n",
    "        if bilinear:\n",
    "            self.up = nn.Upsample(scale_factor=2, mode='bilinear', align_corners=True)\n",
    "        else:\n",
    "            self.up = nn.ConvTranspose2d(in_ch//2, in_ch//2, 2, stride=2)\n",
    "\n",
    "        self.conv = double_conv(in_ch, out_ch)\n",
    "\n",
    "    def forward(self, x1, x2=None):\n",
    "        x1 = self.up(x1)\n",
    "        \n",
    "        # input is CHW\n",
    "        diffY = x2.size()[2] - x1.size()[2]\n",
    "        diffX = x2.size()[3] - x1.size()[3]\n",
    "\n",
    "        x1 = F.pad(x1, (diffX // 2, diffX - diffX//2,\n",
    "                        diffY // 2, diffY - diffY//2))\n",
    "        \n",
    "        # for padding issues, see \n",
    "        # https://github.com/HaiyongJiang/U-Net-Pytorch-Unstructured-Buggy/commit/0e854509c2cea854e247a9c615f175f76fbb2e3a\n",
    "        # https://github.com/xiaopeng-liao/Pytorch-UNet/commit/8ebac70e633bac59fc22bb5195e513d5832fb3bd\n",
    "        \n",
    "        if x2 is not None:\n",
    "            x = torch.cat([x2, x1], dim=1)\n",
    "        else:\n",
    "            x = x1\n",
    "        x = self.conv(x)\n",
    "        return x\n",
    "\n",
    "def get_mesh(batch_size, shape_x, shape_y):\n",
    "    mg_x, mg_y = np.meshgrid(np.linspace(0, 1, shape_y), np.linspace(0, 1, shape_x))\n",
    "    mg_x = np.tile(mg_x[None, None, :, :], [batch_size, 1, 1, 1]).astype('float32')\n",
    "    mg_y = np.tile(mg_y[None, None, :, :], [batch_size, 1, 1, 1]).astype('float32')\n",
    "    mesh = torch.cat([torch.tensor(mg_x).to(device), torch.tensor(mg_y).to(device)], 1)\n",
    "    return mesh"
   ]
  },
  {
   "cell_type": "code",
   "execution_count": 29,
   "metadata": {},
   "outputs": [],
   "source": [
    "import torch.nn as nn\n",
    "import torch.nn.functional as F\n",
    "import torch.utils.model_zoo as model_zoo\n",
    "\n",
    "\n",
    "model_urls = {\n",
    "    'resnet18': 'https://download.pytorch.org/models/resnet18-5c106cde.pth',\n",
    "    'resnet34': 'https://download.pytorch.org/models/resnet34-333f7ec4.pth',\n",
    "    'resnet50': 'https://download.pytorch.org/models/resnet50-19c8e357.pth',\n",
    "    'resnet101': 'https://download.pytorch.org/models/resnet101-5d3b4d8f.pth',\n",
    "    'resnet152': 'https://download.pytorch.org/models/resnet152-b121ed2d.pth',\n",
    "}\n",
    "\n",
    "\n",
    "def conv3x3(in_planes, out_planes, stride=1):\n",
    "    \"\"\"3x3 convolution with padding\"\"\"\n",
    "    return nn.Conv2d(in_planes, out_planes, kernel_size=3, stride=stride,\n",
    "                     padding=1, bias=False)\n",
    "\n",
    "\n",
    "def conv1x1(in_planes, out_planes, stride=1):\n",
    "    \"\"\"1x1 convolution\"\"\"\n",
    "    return nn.Conv2d(in_planes, out_planes, kernel_size=1, stride=stride, bias=False)\n",
    "\n",
    "\n",
    "class BasicBlock(nn.Module):\n",
    "    expansion = 1\n",
    "\n",
    "    def __init__(self, inplanes, planes, stride=1):\n",
    "        super(BasicBlock, self).__init__()\n",
    "\n",
    "        self.conv1 = conv3x3(inplanes, planes, stride)\n",
    "        self.bn1 = nn.GroupNorm(16, planes)\n",
    "\n",
    "        self.conv2 = conv3x3(planes, planes)\n",
    "        self.bn2 = nn.GroupNorm(16, planes)\n",
    "\n",
    "        if stride != 1 or inplanes != planes:\n",
    "            self.downsample = nn.Sequential(\n",
    "                conv1x1(inplanes, planes, stride), nn.GroupNorm(16, planes))\n",
    "        else:\n",
    "            self.downsample = None\n",
    "\n",
    "\n",
    "    def forward(self, x):\n",
    "        identity = x\n",
    "\n",
    "        out = F.relu(self.bn1(self.conv1(x)), inplace=True)\n",
    "        out = self.bn2(self.conv2(out))\n",
    "\n",
    "        if self.downsample is not None:\n",
    "            identity = self.downsample(x)\n",
    "\n",
    "        out += identity\n",
    "        out = F.relu(out, inplace=True)\n",
    "\n",
    "        return out\n",
    "\n",
    "\n",
    "class Bottleneck(nn.Module):\n",
    "    expansion = 4\n",
    "\n",
    "    def __init__(self, inplanes, planes, stride=1):\n",
    "        super(Bottleneck, self).__init__()\n",
    "        self.conv1 = conv1x1(inplanes, planes)\n",
    "        self.bn1 = nn.GroupNorm(16, planes)\n",
    "        self.conv2 = conv3x3(planes, planes, stride)\n",
    "        self.bn2 = nn.GroupNorm(16, planes)\n",
    "        self.conv3 = conv1x1(planes, planes * self.expansion)\n",
    "        self.bn3 = nn.GroupNorm(16, planes * self.expansion)\n",
    "\n",
    "        if stride != 1 or inplanes != planes * self.expansion:\n",
    "            self.downsample = nn.Sequential(\n",
    "                conv1x1(inplanes, planes * self.expansion, stride), \n",
    "                nn.GroupNorm(16, planes * self.expansion))\n",
    "        else:\n",
    "            self.downsample = None\n",
    "\n",
    "    def forward(self, x):\n",
    "        identity = x\n",
    "\n",
    "        out = F.relu(self.bn1(self.conv1(x)), inplace=True)\n",
    "        out = F.relu(self.bn2(self.conv2(out)), inplace=True)\n",
    "        out = self.bn3(self.conv3(out))\n",
    " \n",
    "        if self.downsample is not None:\n",
    "            identity = self.downsample(x)\n",
    "\n",
    "        out += identity\n",
    "        out = F.relu(out)\n",
    "\n",
    "        return out\n",
    "\n",
    "\n",
    "class ResNetFeatures(nn.Module):\n",
    "\n",
    "    def __init__(self, block, layers, num_classes=1000, zero_init_residual=False):\n",
    "        super(ResNetFeatures, self).__init__()\n",
    "        self.inplanes = 64\n",
    "        self.conv1 = nn.Conv2d(3, 64, kernel_size=7, stride=2, padding=3,\n",
    "                               bias=False)\n",
    "        self.bn1 = nn.GroupNorm(16, 64)\n",
    "\n",
    "        self.layer1 = self._make_layer(block, 64, layers[0])\n",
    "        self.layer2 = self._make_layer(block, 128, layers[1], stride=2)\n",
    "        self.layer3 = self._make_layer(block, 256, layers[2], stride=2)\n",
    "        self.layer4 = self._make_layer(block, 512, layers[3], stride=2)\n",
    "\n",
    "\n",
    "        for m in self.modules():\n",
    "            if isinstance(m, nn.Conv2d):\n",
    "                nn.init.kaiming_normal_(m.weight, mode='fan_out', nonlinearity='relu')\n",
    "            elif isinstance(m, nn.BatchNorm2d):\n",
    "                nn.init.constant_(m.weight, 1)\n",
    "                nn.init.constant_(m.bias, 0)\n",
    "\n",
    "        # Zero-initialize the last BN in each residual branch,\n",
    "        # so that the residual branch starts with zeros, and each residual block behaves like an identity.\n",
    "        # This improves the model by 0.2~0.3% according to https://arxiv.org/abs/1706.02677\n",
    "        if zero_init_residual:\n",
    "            for m in self.modules():\n",
    "                if isinstance(m, Bottleneck):\n",
    "                    nn.init.constant_(m.bn3.weight, 0)\n",
    "                elif isinstance(m, BasicBlock):\n",
    "                    nn.init.constant_(m.bn2.weight, 0)\n",
    "\n",
    "    def _make_layer(self, block, planes, blocks, stride=1):\n",
    "\n",
    "        layers = []\n",
    "        layers.append(block(self.inplanes, planes, stride))\n",
    "        self.inplanes = planes * block.expansion\n",
    "        for _ in range(1, blocks):\n",
    "            layers.append(block(self.inplanes, planes))\n",
    "\n",
    "        return nn.Sequential(*layers)\n",
    "\n",
    "\n",
    "    def forward(self, x):\n",
    "        conv1 = F.relu(self.bn1(self.conv1(x)), inplace=True)\n",
    "        conv1 = F.max_pool2d(conv1, 3, stride=2, padding=1)\n",
    "\n",
    "        feats4 = self.layer1(conv1)\n",
    "        feats8 = self.layer2(feats4)\n",
    "        feats16 = self.layer3(feats8)\n",
    "        feats32 = self.layer4(feats16)\n",
    "\n",
    "        return feats8, feats16, feats32\n",
    "\n",
    "\n",
    "\n",
    "def resnet18(pretrained=False, **kwargs):\n",
    "    \"\"\"Constructs a ResNet-18 model.\n",
    "    Args:\n",
    "        pretrained (bool): If True, returns a model pre-trained on ImageNet\n",
    "    \"\"\"\n",
    "    model = ResNetFeatures(BasicBlock, [2, 2, 2, 2], **kwargs)\n",
    "    if pretrained:\n",
    "        _load_pretrained(model, model_zoo.load_url(model_urls['resnet18']))\n",
    "    return model\n",
    "\n",
    "\n",
    "\n",
    "def resnet34(pretrained=False, **kwargs):\n",
    "    \"\"\"Constructs a ResNet-34 model.\n",
    "    Args:\n",
    "        pretrained (bool): If True, returns a model pre-trained on ImageNet\n",
    "    \"\"\"\n",
    "    model = ResNetFeatures(BasicBlock, [3, 4, 6, 3], **kwargs)\n",
    "    if pretrained:\n",
    "        _load_pretrained(model, model_zoo.load_url(model_urls['resnet34']))\n",
    "    return model\n",
    "\n",
    "\n",
    "def _load_pretrained(model, pretrained):\n",
    "    model_dict = model.state_dict()\n",
    "    pretrained = {k : v for k, v in pretrained.items() if k in model_dict}\n",
    "    model_dict.update(pretrained)\n",
    "    model.load_state_dict(model_dict)"
   ]
  },
  {
   "cell_type": "code",
   "execution_count": 30,
   "metadata": {},
   "outputs": [],
   "source": [
    "class CentResnet(nn.Module):\n",
    "    '''Mixture of previous classes'''\n",
    "    def __init__(self, n_classes):\n",
    "        super(CentResnet, self).__init__()\n",
    "        self.base_model = resnet18(pretrained=False)\n",
    "        \n",
    "        # Lateral layers convert resnet outputs to a common feature size\n",
    "        self.lat8 = nn.Conv2d(128, 256, 1)\n",
    "        self.lat16 = nn.Conv2d(256, 256, 1)\n",
    "        self.lat32 = nn.Conv2d(512, 256, 1)\n",
    "        self.bn8 = nn.GroupNorm(16, 256)\n",
    "        self.bn16 = nn.GroupNorm(16, 256)\n",
    "        self.bn32 = nn.GroupNorm(16, 256)\n",
    "\n",
    "       \n",
    "        self.conv0 = double_conv(5, 64)\n",
    "        self.conv1 = double_conv(64, 128)\n",
    "        self.conv2 = double_conv(128, 512)\n",
    "        self.conv3 = double_conv(512, 1024)\n",
    "        \n",
    "        self.mp = nn.MaxPool2d(2)\n",
    "        \n",
    "        self.up1 = up(1282 , 512) #+ 1024\n",
    "        self.up2 = up(512 + 512, 256)\n",
    "        self.outc = nn.Conv2d(256, n_classes, 1)\n",
    "        \n",
    "    \n",
    "    def forward(self, x):\n",
    "        batch_size = x.shape[0]\n",
    "        mesh1 = get_mesh(batch_size, x.shape[2], x.shape[3])\n",
    "        x0 = torch.cat([x, mesh1], 1)\n",
    "        x1 = self.mp(self.conv0(x0))\n",
    "        x2 = self.mp(self.conv1(x1))\n",
    "        x3 = self.mp(self.conv2(x2))\n",
    "        x4 = self.mp(self.conv3(x3))\n",
    "        \n",
    "        #feats = self.base_model.extract_features(x)\n",
    "                # Run frontend network\n",
    "        feats8, feats16, feats32 = self.base_model(x)\n",
    "        lat8 = F.relu(self.bn8(self.lat8(feats8)))\n",
    "        lat16 = F.relu(self.bn16(self.lat16(feats16)))\n",
    "        lat32 = F.relu(self.bn32(self.lat32(feats32)))\n",
    "        \n",
    "        # Add positional info\n",
    "        mesh2 = get_mesh(batch_size, lat32.shape[2], lat32.shape[3])\n",
    "        feats = torch.cat([lat32, mesh2], 1)\n",
    "        #print(feats.shape)\n",
    "        #print (x4.shape)\n",
    "        x = self.up1(feats, x4)\n",
    "        x = self.up2(x, x3)\n",
    "        x = self.outc(x)\n",
    "        return x"
   ]
  },
  {
   "cell_type": "code",
   "execution_count": null,
   "metadata": {},
   "outputs": [],
   "source": []
  },
  {
   "cell_type": "code",
   "execution_count": null,
   "metadata": {},
   "outputs": [],
   "source": []
  },
  {
   "cell_type": "code",
   "execution_count": 31,
   "metadata": {},
   "outputs": [],
   "source": [
    "from dlav0 import get_pose_net as get_dlav0"
   ]
  },
  {
   "cell_type": "code",
   "execution_count": 32,
   "metadata": {},
   "outputs": [],
   "source": [
    "_model_factory = {\n",
    "  #'res': get_pose_net, # default Resnet with deconv\n",
    "  'dlav0': get_dlav0, # default DLAup\n",
    "  #'dla': get_dla_dcn,\n",
    "  #'resdcn': get_pose_net_dcn,\n",
    "  #'hourglass': get_large_hourglass_net,\n",
    "}"
   ]
  },
  {
   "cell_type": "code",
   "execution_count": 33,
   "metadata": {},
   "outputs": [],
   "source": [
    "def create_model(arch, heads, head_conv):\n",
    "    num_layers = int(arch[arch.find('_') + 1:]) if '_' in arch else 0\n",
    "    arch = arch[:arch.find('_')] if '_' in arch else arch\n",
    "    arch = 'dlav0'\n",
    "    get_model = _model_factory[arch]\n",
    "    model = get_model(num_layers=num_layers, heads=heads, head_conv=head_conv)\n",
    "    return model"
   ]
  },
  {
   "cell_type": "code",
   "execution_count": 34,
   "metadata": {},
   "outputs": [],
   "source": [
    "model = create_model('dla_34', {'hm': 8} , 256)#{'hm': 3, 'dep': 1, 'rot': 8, 'dim': 3, 'wh': 2, 'reg': 2},256)"
   ]
  },
  {
   "cell_type": "code",
   "execution_count": 35,
   "metadata": {},
   "outputs": [
    {
     "name": "stdout",
     "output_type": "stream",
     "text": [
      "cuda\n"
     ]
    }
   ],
   "source": [
    "# Gets the GPU if there is one, otherwise the cpu\n",
    "device = torch.device(\"cuda\" if torch.cuda.is_available() else \"cpu\")\n",
    "print(device)\n",
    "\n",
    "n_epochs = 12 #6\n",
    "\n",
    "#model = CentResnet(8).to(device)\n",
    "model.cuda()\n",
    "optimizer = optim.AdamW(model.parameters(), lr=0.001)\n",
    "#optimizer =  RAdam(model.parameters(), lr = 0.001)\n",
    "exp_lr_scheduler = lr_scheduler.StepLR(optimizer, step_size=max(n_epochs, 10) * len(train_loader) // 3, gamma=0.1)"
   ]
  },
  {
   "cell_type": "code",
   "execution_count": 36,
   "metadata": {},
   "outputs": [],
   "source": [
    "img_batch = torch.randn((1,3,512,2048))"
   ]
  },
  {
   "cell_type": "code",
   "execution_count": 37,
   "metadata": {},
   "outputs": [],
   "source": [
    "#test = model(img_batch.to(device))"
   ]
  },
  {
   "cell_type": "code",
   "execution_count": 38,
   "metadata": {},
   "outputs": [],
   "source": [
    "# model.load_state_dict(torch.load('./modelGaussian.pth'))\n",
    "# model.eval();"
   ]
  },
  {
   "cell_type": "code",
   "execution_count": null,
   "metadata": {},
   "outputs": [],
   "source": []
  },
  {
   "cell_type": "code",
   "execution_count": 39,
   "metadata": {},
   "outputs": [],
   "source": [
    "def gaussian_radius(det_size, min_overlap=0.7):\n",
    "    height, width = det_size\n",
    "\n",
    "    a1  = 1\n",
    "    b1  = (height + width)\n",
    "    c1  = width * height * (1 - min_overlap) / (1 + min_overlap)\n",
    "    sq1 = np.sqrt(b1 ** 2 - 4 * a1 * c1)\n",
    "    r1  = (b1 + sq1) / 2\n",
    "\n",
    "    a2  = 4\n",
    "    b2  = 2 * (height + width)\n",
    "    c2  = (1 - min_overlap) * width * height\n",
    "    sq2 = np.sqrt(b2 ** 2 - 4 * a2 * c2)\n",
    "    r2  = (b2 + sq2) / 2\n",
    "\n",
    "    a3  = 4 * min_overlap\n",
    "    b3  = -2 * min_overlap * (height + width)\n",
    "    c3  = (min_overlap - 1) * width * height\n",
    "    sq3 = np.sqrt(b3 ** 2 - 4 * a3 * c3)\n",
    "    r3  = (b3 + sq3) / 2\n",
    "    return min(r1, r2, r3)\n",
    "def gaussian2D(shape, sigma=1):\n",
    "    m, n = [(ss - 1.) / 2. for ss in shape]\n",
    "    y, x = np.ogrid[-m:m+1,-n:n+1]\n",
    "\n",
    "    h = np.exp(-(x * x + y * y) / (2 * sigma * sigma))\n",
    "    h[h < np.finfo(h.dtype).eps * h.max()] = 0\n",
    "    return h\n",
    "def draw_msra_gaussian(heatmap, center, sigma):\n",
    "    tmp_size = sigma * 3\n",
    "    mu_x = int(center[0] + 0.5)\n",
    "    mu_y = int(center[1] + 0.5)\n",
    "    w, h = heatmap.shape[0], heatmap.shape[1]\n",
    "    ul = [int(mu_x - tmp_size), int(mu_y - tmp_size)]\n",
    "    br = [int(mu_x + tmp_size + 1), int(mu_y + tmp_size + 1)]\n",
    "    if ul[0] >= h or ul[1] >= w or br[0] < 0 or br[1] < 0:\n",
    "        return heatmap\n",
    "    size = 2 * tmp_size + 1\n",
    "    x = np.arange(0, size, 1, np.float32)\n",
    "    y = x[:, np.newaxis]\n",
    "    \n",
    "    x0 = y0 = size // 2\n",
    "    g = np.exp(- ((x - x0) ** 2 + (y - y0) ** 2) / (2 * sigma ** 2))\n",
    "    g_x = max(0, -ul[0]), min(br[0], h) - ul[0]\n",
    "    g_y = max(0, -ul[1]), min(br[1], w) - ul[1]\n",
    "    img_x = max(0, ul[0]), min(br[0], h)\n",
    "    img_y = max(0, ul[1]), min(br[1], w)\n",
    "    \n",
    "    \n",
    "    heatmap[img_y[0]:img_y[1], img_x[0]:img_x[1]] = np.maximum(\n",
    "        heatmap[img_y[0]:img_y[1], img_x[0]:img_x[1]],\n",
    "        g[g_y[0]:g_y[1], g_x[0]:g_x[1]])\n",
    "    return heatmap\n",
    "\n",
    "\n",
    "def gaussian_mask(mask):\n",
    "    xlist, ylist = np.where(mask == 1)\n",
    "    masklist = [(i,j) for i, j in zip(xlist, ylist)]\n",
    "    hm = np.zeros(mask.shape) \n",
    "\n",
    "    for (y,x) in masklist:\n",
    "        bbox = np.array([x-0.1, y-0.1, x+0.1, y+0.1])\n",
    "        h, w = bbox[3] - bbox[1], bbox[2] - bbox[0]\n",
    "        radius = gaussian_radius((h, w))    \n",
    "        ct = np.array([(bbox[0] + bbox[2]) / 2, (bbox[1] + bbox[3]) / 2], dtype=np.float32)\n",
    "        ct_int = ct.astype(np.int32)\n",
    "        hm[int(bbox[1]): int(bbox[3]), int(bbox[0]): int(bbox[2])] = 0.9999    \n",
    "        gm =+ draw_msra_gaussian(hm, ct, 0.7) # np.exp((y-5)/200)\n",
    "\n",
    "    #plt.figure(figsize=(16,16))\n",
    "    #plt.imshow(gm, vmin=0, vmax=1)\n",
    "    #plt.show()\n",
    "    \n",
    "    return gm\n",
    "\n",
    "from tqdm import tqdm\n",
    "def apply_gaussian(dataset):\n",
    "    for i in tqdm(range(len(dataset))):\n",
    "        dataset[i][1] = gaussian_mask(dataset[i][1])    \n",
    "    return dataset"
   ]
  },
  {
   "cell_type": "code",
   "execution_count": 40,
   "metadata": {},
   "outputs": [],
   "source": [
    "#train_dataset = apply_gaussian(train_dataset)"
   ]
  },
  {
   "cell_type": "markdown",
   "metadata": {},
   "source": [
    "# Training"
   ]
  },
  {
   "cell_type": "code",
   "execution_count": 41,
   "metadata": {
    "_kg_hide-input": true
   },
   "outputs": [],
   "source": [
    "def criterion(prediction, mask, regr,weight=0.4, size_average=True):\n",
    "    # Binary mask loss\n",
    "    #print(prediction.shape)\n",
    "    #print(prediction[0]['hm'].shape)\n",
    "    prediction = prediction[0]['hm']\n",
    "    pred_mask = torch.sigmoid(prediction[:, 0])\n",
    "#     mask_loss = mask * (1 - pred_mask)**2 * torch.log(pred_mask + 1e-12) + (1 - mask) * pred_mask**2 * torch.log(1 - pred_mask + 1e-12)\n",
    "    \n",
    "    mask_loss = mask * torch.log(pred_mask + 1e-12) + (1 - mask) * torch.log(1 - pred_mask + 1e-12)\n",
    "    mask_loss = -mask_loss.mean(0).sum()\n",
    "    \n",
    "    # Regression L1 loss\n",
    "    pred_regr = prediction[:, 1:]\n",
    "    #regr_loss = (torch.abs(pred_regr - regr).sum(1) * mask).sum(1).sum(1) / mask.sum(1).sum(1)\n",
    "    regr_loss = (torch.min(torch.abs(pred_regr - regr), torch.abs((pred_regr - regr)**2)).sum(1) * mask).sum(1).sum(1) / mask.sum(1).sum(1)\n",
    "    # smooth l1 - torch.min(torch.abs(pred_regr - regr), torch.abs((pred_regr - regr)**2))\n",
    "    regr_loss = regr_loss.mean(0)\n",
    "  \n",
    "    # Sum\n",
    "    loss = weight*mask_loss +(1-weight)* regr_loss\n",
    "    if not size_average:\n",
    "        loss *= prediction.shape[0]\n",
    "    return loss ,mask_loss , regr_loss"
   ]
  },
  {
   "cell_type": "code",
   "execution_count": 42,
   "metadata": {
    "_kg_hide-input": true
   },
   "outputs": [],
   "source": [
    "def train(epoch, history=None):\n",
    "    model.train()\n",
    "    t = tqdm(train_loader)\n",
    "    for batch_idx, (img_batch, mask_batch, regr_batch) in enumerate(t):\n",
    "        img_batch = img_batch.to(device)\n",
    "        mask_batch = mask_batch.to(device)\n",
    "        regr_batch = regr_batch.to(device)\n",
    "        \n",
    "        optimizer.zero_grad()\n",
    "        output = model(img_batch)\n",
    "        \n",
    "        \n",
    "        if epoch < SWITCH_LOSS_EPOCH :\n",
    "            loss, mask_loss, regr_loss = criterion(output, mask_batch, regr_batch,1)\n",
    "        else:\n",
    "            loss,mask_loss, regr_loss = criterion(output, mask_batch, regr_batch,0.5)  \n",
    "        \n",
    "        t.set_description(f'train_loss (l={loss:.3f})(m={mask_loss:.2f}) (r={regr_loss:.4f}')\n",
    "        \n",
    "        if history is not None:\n",
    "            history.loc[epoch + batch_idx / len(train_loader), 'train_loss'] = loss.data.cpu().numpy()\n",
    "        \n",
    "        loss.backward()\n",
    "        \n",
    "        optimizer.step()\n",
    "        exp_lr_scheduler.step()\n",
    "\n",
    "    \n",
    "    print('Train Epoch: {} \\tLR: {:.6f}\\tLoss: {:.6f}\\tMaskLoss: {:.6f}\\tRegLoss: {:.6f}'.format(\n",
    "        epoch,\n",
    "        optimizer.state_dict()['param_groups'][0]['lr'],\n",
    "        loss.data,\n",
    "        mask_loss.data,\n",
    "        regr_loss.data))\n",
    "\n",
    "def evaluate(epoch, history=None):\n",
    "    model.eval()\n",
    "    loss = 0\n",
    "    valid_loss = 0\n",
    "    valid_mask_loss = 0\n",
    "    valid_regr_loss = 0\n",
    "    with torch.no_grad():\n",
    "        for img_batch, mask_batch, regr_batch in dev_loader:\n",
    "            img_batch = img_batch.to(device)\n",
    "            mask_batch = mask_batch.to(device)\n",
    "            regr_batch = regr_batch.to(device)\n",
    "\n",
    "            output = model(img_batch)\n",
    "\n",
    "            if epoch < SWITCH_LOSS_EPOCH :\n",
    "                loss,mask_loss, regr_loss= criterion(output, mask_batch, regr_batch,1, size_average=False)\n",
    "                valid_loss += loss.data\n",
    "                valid_mask_loss += mask_loss.data\n",
    "                valid_regr_loss += regr_loss.data\n",
    "            else :\n",
    "                loss,mask_loss, regr_loss = criterion(output, mask_batch, regr_batch,0.5, size_average=False)\n",
    "                valid_loss += loss.data\n",
    "                valid_mask_loss += mask_loss.data\n",
    "                valid_regr_loss += regr_loss.data \n",
    "\n",
    "    \n",
    "    valid_loss /= len(dev_loader.dataset)\n",
    "    valid_mask_loss /= len(dev_loader.dataset)\n",
    "    valid_regr_loss /= len(dev_loader.dataset)\n",
    "    \n",
    "    if history is not None:\n",
    "        history.loc[epoch, 'dev_loss'] = valid_loss.cpu().numpy()\n",
    "        history.loc[epoch, 'mask_loss'] = valid_mask_loss.cpu().numpy()\n",
    "        history.loc[epoch, 'regr_loss'] = valid_regr_loss.cpu().numpy()\n",
    "\n",
    "    \n",
    "    print('Dev loss: {:.4f}'.format(valid_loss))"
   ]
  },
  {
   "cell_type": "code",
   "execution_count": 43,
   "metadata": {},
   "outputs": [],
   "source": [
    "# torch.Size([2, 64, 256])\n",
    "# torch.Size([2, 128, 512])"
   ]
  },
  {
   "cell_type": "code",
   "execution_count": 44,
   "metadata": {
    "scrolled": true
   },
   "outputs": [
    {
     "name": "stderr",
     "output_type": "stream",
     "text": [
      "train_loss (l=28.947)(m=28.95) (r=17.7693: 100%|██████████| 528/528 [06:21<00:00,  1.39it/s]  \n"
     ]
    },
    {
     "name": "stdout",
     "output_type": "stream",
     "text": [
      "Train Epoch: 0 \tLR: 0.001000\tLoss: 28.946678\tMaskLoss: 28.946678\tRegLoss: 17.769346\n"
     ]
    },
    {
     "name": "stderr",
     "output_type": "stream",
     "text": [
      "\r",
      "  0%|          | 0/528 [00:00<?, ?it/s]"
     ]
    },
    {
     "name": "stdout",
     "output_type": "stream",
     "text": [
      "Dev loss: 44.2260\n"
     ]
    },
    {
     "name": "stderr",
     "output_type": "stream",
     "text": [
      "train_loss (l=27.258)(m=27.26) (r=16.4289: 100%|██████████| 528/528 [06:22<00:00,  1.38it/s]\n"
     ]
    },
    {
     "name": "stdout",
     "output_type": "stream",
     "text": [
      "Train Epoch: 1 \tLR: 0.001000\tLoss: 27.258137\tMaskLoss: 27.258137\tRegLoss: 16.428925\n"
     ]
    },
    {
     "name": "stderr",
     "output_type": "stream",
     "text": [
      "\r",
      "  0%|          | 0/528 [00:00<?, ?it/s]"
     ]
    },
    {
     "name": "stdout",
     "output_type": "stream",
     "text": [
      "Dev loss: 38.1671\n"
     ]
    },
    {
     "name": "stderr",
     "output_type": "stream",
     "text": [
      "train_loss (l=40.355)(m=40.35) (r=16.5158: 100%|██████████| 528/528 [06:22<00:00,  1.38it/s]\n"
     ]
    },
    {
     "name": "stdout",
     "output_type": "stream",
     "text": [
      "Train Epoch: 2 \tLR: 0.001000\tLoss: 40.354504\tMaskLoss: 40.354504\tRegLoss: 16.515774\n"
     ]
    },
    {
     "name": "stderr",
     "output_type": "stream",
     "text": [
      "\r",
      "  0%|          | 0/528 [00:00<?, ?it/s]"
     ]
    },
    {
     "name": "stdout",
     "output_type": "stream",
     "text": [
      "Dev loss: 35.7295\n"
     ]
    },
    {
     "name": "stderr",
     "output_type": "stream",
     "text": [
      "train_loss (l=30.390)(m=30.39) (r=16.5179: 100%|██████████| 528/528 [06:21<00:00,  1.38it/s]\n"
     ]
    },
    {
     "name": "stdout",
     "output_type": "stream",
     "text": [
      "Train Epoch: 3 \tLR: 0.001000\tLoss: 30.390234\tMaskLoss: 30.390234\tRegLoss: 16.517866\n"
     ]
    },
    {
     "name": "stderr",
     "output_type": "stream",
     "text": [
      "\r",
      "  0%|          | 0/528 [00:00<?, ?it/s]"
     ]
    },
    {
     "name": "stdout",
     "output_type": "stream",
     "text": [
      "Dev loss: 33.0308\n"
     ]
    },
    {
     "name": "stderr",
     "output_type": "stream",
     "text": [
      "train_loss (l=25.549)(m=25.55) (r=17.0451: 100%|██████████| 528/528 [06:22<00:00,  1.38it/s]\n"
     ]
    },
    {
     "name": "stdout",
     "output_type": "stream",
     "text": [
      "Train Epoch: 4 \tLR: 0.000100\tLoss: 25.549082\tMaskLoss: 25.549082\tRegLoss: 17.045128\n"
     ]
    },
    {
     "name": "stderr",
     "output_type": "stream",
     "text": [
      "\r",
      "  0%|          | 0/528 [00:00<?, ?it/s]"
     ]
    },
    {
     "name": "stdout",
     "output_type": "stream",
     "text": [
      "Dev loss: 30.0288\n"
     ]
    },
    {
     "name": "stderr",
     "output_type": "stream",
     "text": [
      "train_loss (l=5.416)(m=9.82) (r=1.0152: 100%|██████████| 528/528 [06:22<00:00,  1.38it/s]  \n"
     ]
    },
    {
     "name": "stdout",
     "output_type": "stream",
     "text": [
      "Train Epoch: 5 \tLR: 0.000100\tLoss: 5.415695\tMaskLoss: 9.816220\tRegLoss: 1.015169\n"
     ]
    },
    {
     "name": "stderr",
     "output_type": "stream",
     "text": [
      "\r",
      "  0%|          | 0/528 [00:00<?, ?it/s]"
     ]
    },
    {
     "name": "stdout",
     "output_type": "stream",
     "text": [
      "Dev loss: 15.5558\n"
     ]
    },
    {
     "name": "stderr",
     "output_type": "stream",
     "text": [
      "train_loss (l=11.728)(m=22.72) (r=0.7407: 100%|██████████| 528/528 [06:22<00:00,  1.38it/s]\n"
     ]
    },
    {
     "name": "stdout",
     "output_type": "stream",
     "text": [
      "Train Epoch: 6 \tLR: 0.000100\tLoss: 11.728297\tMaskLoss: 22.715942\tRegLoss: 0.740651\n"
     ]
    },
    {
     "name": "stderr",
     "output_type": "stream",
     "text": [
      "\r",
      "  0%|          | 0/528 [00:00<?, ?it/s]"
     ]
    },
    {
     "name": "stdout",
     "output_type": "stream",
     "text": [
      "Dev loss: 15.7836\n"
     ]
    },
    {
     "name": "stderr",
     "output_type": "stream",
     "text": [
      "train_loss (l=19.017)(m=37.28) (r=0.7565: 100%|██████████| 528/528 [06:22<00:00,  1.38it/s]\n"
     ]
    },
    {
     "name": "stdout",
     "output_type": "stream",
     "text": [
      "Train Epoch: 7 \tLR: 0.000100\tLoss: 19.017361\tMaskLoss: 37.278236\tRegLoss: 0.756486\n"
     ]
    },
    {
     "name": "stderr",
     "output_type": "stream",
     "text": [
      "\r",
      "  0%|          | 0/528 [00:00<?, ?it/s]"
     ]
    },
    {
     "name": "stdout",
     "output_type": "stream",
     "text": [
      "Dev loss: 15.9686\n"
     ]
    },
    {
     "name": "stderr",
     "output_type": "stream",
     "text": [
      "train_loss (l=14.598)(m=28.12) (r=1.0751: 100%|██████████| 528/528 [06:22<00:00,  1.38it/s]\n"
     ]
    },
    {
     "name": "stdout",
     "output_type": "stream",
     "text": [
      "Train Epoch: 8 \tLR: 0.000010\tLoss: 14.598242\tMaskLoss: 28.121344\tRegLoss: 1.075141\n"
     ]
    },
    {
     "name": "stderr",
     "output_type": "stream",
     "text": [
      "\r",
      "  0%|          | 0/528 [00:00<?, ?it/s]"
     ]
    },
    {
     "name": "stdout",
     "output_type": "stream",
     "text": [
      "Dev loss: 16.3469\n"
     ]
    },
    {
     "name": "stderr",
     "output_type": "stream",
     "text": [
      "train_loss (l=9.204)(m=17.99) (r=0.4193: 100%|██████████| 528/528 [06:22<00:00,  1.38it/s] \n"
     ]
    },
    {
     "name": "stdout",
     "output_type": "stream",
     "text": [
      "Train Epoch: 9 \tLR: 0.000010\tLoss: 9.203769\tMaskLoss: 17.988266\tRegLoss: 0.419272\n",
      "Dev loss: 16.5363\n"
     ]
    },
    {
     "name": "stderr",
     "output_type": "stream",
     "text": [
      "train_loss (l=11.883)(m=23.08) (r=0.6883: 100%|██████████| 528/528 [06:22<00:00,  1.38it/s]\n"
     ]
    },
    {
     "name": "stdout",
     "output_type": "stream",
     "text": [
      "Train Epoch: 10 \tLR: 0.000010\tLoss: 11.882592\tMaskLoss: 23.076918\tRegLoss: 0.688266\n"
     ]
    },
    {
     "name": "stderr",
     "output_type": "stream",
     "text": [
      "\r",
      "  0%|          | 0/528 [00:00<?, ?it/s]"
     ]
    },
    {
     "name": "stdout",
     "output_type": "stream",
     "text": [
      "Dev loss: 16.7213\n"
     ]
    },
    {
     "name": "stderr",
     "output_type": "stream",
     "text": [
      "train_loss (l=15.447)(m=30.21) (r=0.6856: 100%|██████████| 528/528 [06:22<00:00,  1.38it/s]\n"
     ]
    },
    {
     "name": "stdout",
     "output_type": "stream",
     "text": [
      "Train Epoch: 11 \tLR: 0.000010\tLoss: 15.447336\tMaskLoss: 30.209053\tRegLoss: 0.685619\n",
      "Dev loss: 16.9059\n",
      "CPU times: user 51min 20s, sys: 25min, total: 1h 16min 21s\n",
      "Wall time: 1h 17min 27s\n"
     ]
    }
   ],
   "source": [
    "%%time\n",
    "import gc\n",
    "\n",
    "history = pd.DataFrame()\n",
    "\n",
    "for epoch in range(n_epochs):\n",
    "    torch.cuda.empty_cache()\n",
    "    gc.collect()\n",
    "    train(epoch, history)\n",
    "    evaluate(epoch, history)"
   ]
  },
  {
   "cell_type": "code",
   "execution_count": null,
   "metadata": {},
   "outputs": [],
   "source": []
  },
  {
   "cell_type": "code",
   "execution_count": null,
   "metadata": {},
   "outputs": [],
   "source": []
  },
  {
   "cell_type": "code",
   "execution_count": null,
   "metadata": {},
   "outputs": [],
   "source": []
  },
  {
   "cell_type": "code",
   "execution_count": 45,
   "metadata": {},
   "outputs": [
    {
     "name": "stderr",
     "output_type": "stream",
     "text": [
      "\n",
      "  0%|          | 0/2110 [00:00<?, ?it/s]\u001b[A\n",
      "  0%|          | 0/2110 [00:02<?, ?it/s]"
     ]
    },
    {
     "name": "stdout",
     "output_type": "stream",
     "text": [
      "torch.Size([2, 64, 256])\n",
      "torch.Size([2, 128, 512])\n"
     ]
    },
    {
     "name": "stderr",
     "output_type": "stream",
     "text": [
      "\n"
     ]
    },
    {
     "ename": "RuntimeError",
     "evalue": "The size of tensor a (256) must match the size of tensor b (512) at non-singleton dimension 2",
     "output_type": "error",
     "traceback": [
      "\u001b[0;31m---------------------------------------------------------------------------\u001b[0m",
      "\u001b[0;31mRuntimeError\u001b[0m                              Traceback (most recent call last)",
      "\u001b[0;32m<timed exec>\u001b[0m in \u001b[0;36m<module>\u001b[0;34m\u001b[0m\n",
      "\u001b[0;32m<ipython-input-42-3bb74eca33b1>\u001b[0m in \u001b[0;36mtrain\u001b[0;34m(epoch, history)\u001b[0m\n\u001b[1;32m     12\u001b[0m \u001b[0;34m\u001b[0m\u001b[0m\n\u001b[1;32m     13\u001b[0m         \u001b[0;32mif\u001b[0m \u001b[0mepoch\u001b[0m \u001b[0;34m<\u001b[0m \u001b[0mSWITCH_LOSS_EPOCH\u001b[0m \u001b[0;34m:\u001b[0m\u001b[0;34m\u001b[0m\u001b[0;34m\u001b[0m\u001b[0m\n\u001b[0;32m---> 14\u001b[0;31m             \u001b[0mloss\u001b[0m\u001b[0;34m,\u001b[0m \u001b[0mmask_loss\u001b[0m\u001b[0;34m,\u001b[0m \u001b[0mregr_loss\u001b[0m \u001b[0;34m=\u001b[0m \u001b[0mcriterion\u001b[0m\u001b[0;34m(\u001b[0m\u001b[0moutput\u001b[0m\u001b[0;34m,\u001b[0m \u001b[0mmask_batch\u001b[0m\u001b[0;34m,\u001b[0m \u001b[0mregr_batch\u001b[0m\u001b[0;34m,\u001b[0m\u001b[0;36m1\u001b[0m\u001b[0;34m)\u001b[0m\u001b[0;34m\u001b[0m\u001b[0;34m\u001b[0m\u001b[0m\n\u001b[0m\u001b[1;32m     15\u001b[0m         \u001b[0;32melse\u001b[0m\u001b[0;34m:\u001b[0m\u001b[0;34m\u001b[0m\u001b[0;34m\u001b[0m\u001b[0m\n\u001b[1;32m     16\u001b[0m             \u001b[0mloss\u001b[0m\u001b[0;34m,\u001b[0m\u001b[0mmask_loss\u001b[0m\u001b[0;34m,\u001b[0m \u001b[0mregr_loss\u001b[0m \u001b[0;34m=\u001b[0m \u001b[0mcriterion\u001b[0m\u001b[0;34m(\u001b[0m\u001b[0moutput\u001b[0m\u001b[0;34m,\u001b[0m \u001b[0mmask_batch\u001b[0m\u001b[0;34m,\u001b[0m \u001b[0mregr_batch\u001b[0m\u001b[0;34m,\u001b[0m\u001b[0;36m0.5\u001b[0m\u001b[0;34m)\u001b[0m\u001b[0;34m\u001b[0m\u001b[0;34m\u001b[0m\u001b[0m\n",
      "\u001b[0;32m<ipython-input-41-163be96fc155>\u001b[0m in \u001b[0;36mcriterion\u001b[0;34m(prediction, mask, regr, weight, size_average)\u001b[0m\n\u001b[1;32m      9\u001b[0m     \u001b[0mprint\u001b[0m\u001b[0;34m(\u001b[0m\u001b[0mpred_mask\u001b[0m\u001b[0;34m.\u001b[0m\u001b[0mshape\u001b[0m\u001b[0;34m)\u001b[0m\u001b[0;34m\u001b[0m\u001b[0;34m\u001b[0m\u001b[0m\n\u001b[1;32m     10\u001b[0m \u001b[0;34m\u001b[0m\u001b[0m\n\u001b[0;32m---> 11\u001b[0;31m     \u001b[0mmask_loss\u001b[0m \u001b[0;34m=\u001b[0m \u001b[0mmask\u001b[0m \u001b[0;34m*\u001b[0m \u001b[0mtorch\u001b[0m\u001b[0;34m.\u001b[0m\u001b[0mlog\u001b[0m\u001b[0;34m(\u001b[0m\u001b[0mpred_mask\u001b[0m \u001b[0;34m+\u001b[0m \u001b[0;36m1e-12\u001b[0m\u001b[0;34m)\u001b[0m \u001b[0;34m+\u001b[0m \u001b[0;34m(\u001b[0m\u001b[0;36m1\u001b[0m \u001b[0;34m-\u001b[0m \u001b[0mmask\u001b[0m\u001b[0;34m)\u001b[0m \u001b[0;34m*\u001b[0m \u001b[0mtorch\u001b[0m\u001b[0;34m.\u001b[0m\u001b[0mlog\u001b[0m\u001b[0;34m(\u001b[0m\u001b[0;36m1\u001b[0m \u001b[0;34m-\u001b[0m \u001b[0mpred_mask\u001b[0m \u001b[0;34m+\u001b[0m \u001b[0;36m1e-12\u001b[0m\u001b[0;34m)\u001b[0m\u001b[0;34m\u001b[0m\u001b[0;34m\u001b[0m\u001b[0m\n\u001b[0m\u001b[1;32m     12\u001b[0m     \u001b[0mmask_loss\u001b[0m \u001b[0;34m=\u001b[0m \u001b[0;34m-\u001b[0m\u001b[0mmask_loss\u001b[0m\u001b[0;34m.\u001b[0m\u001b[0mmean\u001b[0m\u001b[0;34m(\u001b[0m\u001b[0;36m0\u001b[0m\u001b[0;34m)\u001b[0m\u001b[0;34m.\u001b[0m\u001b[0msum\u001b[0m\u001b[0;34m(\u001b[0m\u001b[0;34m)\u001b[0m\u001b[0;34m\u001b[0m\u001b[0;34m\u001b[0m\u001b[0m\n\u001b[1;32m     13\u001b[0m \u001b[0;34m\u001b[0m\u001b[0m\n",
      "\u001b[0;31mRuntimeError\u001b[0m: The size of tensor a (256) must match the size of tensor b (512) at non-singleton dimension 2"
     ]
    }
   ],
   "source": [
    "%%time\n",
    "import gc\n",
    "\n",
    "history = pd.DataFrame()\n",
    "\n",
    "for epoch in range(n_epochs):\n",
    "    torch.cuda.empty_cache()\n",
    "    gc.collect()\n",
    "    train(epoch, history)\n",
    "    evaluate(epoch, history)"
   ]
  },
  {
   "cell_type": "code",
   "execution_count": 46,
   "metadata": {},
   "outputs": [],
   "source": [
    "torch.save(model.state_dict(), './model-dla'+'.pth')"
   ]
  },
  {
   "cell_type": "code",
   "execution_count": 47,
   "metadata": {},
   "outputs": [
    {
     "data": {
      "image/png": "[encoded data removed]",
      "text/plain": [
       "<Figure size 432x288 with 1 Axes>"
      ]
     },
     "metadata": {
      "needs_background": "light"
     },
     "output_type": "display_data"
    }
   ],
   "source": [
    "history['train_loss'].iloc[100:].plot();"
   ]
  },
  {
   "cell_type": "code",
   "execution_count": 48,
   "metadata": {},
   "outputs": [
    {
     "data": {
      "image/png": "[encoded data removed]",
      "text/plain": [
       "<Figure size 432x288 with 1 Axes>"
      ]
     },
     "metadata": {
      "needs_background": "light"
     },
     "output_type": "display_data"
    }
   ],
   "source": [
    "series1 = history.dropna()['mask_loss']\n",
    "plt.plot(series1.index, series1 ,label = 'mask loss');\n",
    "series2 = history.dropna()['regr_loss']\n",
    "plt.plot(series2.index, 30*series2,label = 'regr loss');\n",
    "series3 = history.dropna()['dev_loss']\n",
    "plt.plot(series3.index, series3,label = 'dev loss');\n",
    "plt.show()"
   ]
  },
  {
   "cell_type": "code",
   "execution_count": 49,
   "metadata": {},
   "outputs": [
    {
     "data": {
      "image/png": "[encoded data removed]",
      "text/plain": [
       "<Figure size 432x288 with 1 Axes>"
      ]
     },
     "metadata": {
      "needs_background": "light"
     },
     "output_type": "display_data"
    }
   ],
   "source": [
    "series = history.dropna()['dev_loss']\n",
    "plt.scatter(series.index, series);"
   ]
  },
  {
   "cell_type": "code",
   "execution_count": null,
   "metadata": {},
   "outputs": [],
   "source": []
  },
  {
   "cell_type": "code",
   "execution_count": null,
   "metadata": {},
   "outputs": [],
   "source": []
  },
  {
   "cell_type": "code",
   "execution_count": null,
   "metadata": {},
   "outputs": [],
   "source": []
  },
  {
   "cell_type": "code",
   "execution_count": null,
   "metadata": {},
   "outputs": [],
   "source": []
  },
  {
   "cell_type": "markdown",
   "metadata": {},
   "source": [
    "# Visualize predictions"
   ]
  },
  {
   "cell_type": "code",
   "execution_count": null,
   "metadata": {
    "_kg_hide-input": true
   },
   "outputs": [],
   "source": [
    "# img, mask, regr = dev_dataset[0]\n",
    "\n",
    "# plt.figure(figsize=(16,16))\n",
    "# plt.title('Input image')\n",
    "# plt.imshow(np.rollaxis(img, 0, 3))\n",
    "# plt.show()\n",
    "\n",
    "# plt.figure(figsize=(16,16))\n",
    "# plt.title('Ground truth mask')\n",
    "# plt.imshow(mask)\n",
    "# plt.show()\n",
    "\n",
    "# output = model(torch.tensor(img[None]).to(device))\n",
    "# logits = output[0,0].data.cpu().numpy()\n",
    "\n",
    "# plt.figure(figsize=(16,16))\n",
    "# plt.title('Model predictions')\n",
    "# plt.imshow(logits)\n",
    "# plt.show()\n",
    "\n",
    "# print(logits)\n",
    "# plt.figure(figsize=(16,16))\n",
    "# plt.title('Model predictions thresholded')\n",
    "# plt.imshow(logits > 0)\n",
    "# plt.show()"
   ]
  },
  {
   "cell_type": "code",
   "execution_count": null,
   "metadata": {},
   "outputs": [],
   "source": [
    "# ## Simple test of probabilities\n",
    "# act = torch.nn.Sigmoid()\n",
    "# logtens = torch.from_numpy(logits)\n",
    "# probs = act(logtens)\n",
    "# probs = probs[probs>0.03]\n",
    "# print(probs)"
   ]
  },
  {
   "cell_type": "code",
   "execution_count": 50,
   "metadata": {},
   "outputs": [],
   "source": [
    "DISTANCE_THRESH_CLEAR = 2\n",
    "\n",
    "def convert_3d_to_2d(x, y, z, fx = 2304.5479, fy = 2305.8757, cx = 1686.2379, cy = 1354.9849):\n",
    "    # stolen from https://www.kaggle.com/theshockwaverider/eda-visualization-baseline\n",
    "    return x * fx / z + cx, y * fy / z + cy\n",
    "\n",
    "def optimize_xy(r, c, x0, y0, z0):\n",
    "    def distance_fn(xyz):\n",
    "        x, y, z = xyz\n",
    "        x, y = convert_3d_to_2d(x, y, z0)\n",
    "        y, x = x, y\n",
    "        x = (x - IMG_SHAPE[0] // 2) * IMG_HEIGHT / (IMG_SHAPE[0] // 2) / MODEL_SCALE\n",
    "        x = np.round(x).astype('int')\n",
    "        y = (y + IMG_SHAPE[1] // 4) * IMG_WIDTH / (IMG_SHAPE[1] * 1.5) / MODEL_SCALE\n",
    "        y = np.round(y).astype('int')\n",
    "        return (x-r)**2 + (y-c)**2\n",
    "    \n",
    "    res = minimize(distance_fn, [x0, y0, z0], method='Powell')\n",
    "    x_new, y_new, z_new = res.x\n",
    "    return x_new, y_new, z0\n",
    "\n",
    "def clear_duplicates(coords):\n",
    "    for c1 in coords:\n",
    "        xyz1 = np.array([c1['x'], c1['y'], c1['z']])\n",
    "        for c2 in coords:\n",
    "            xyz2 = np.array([c2['x'], c2['y'], c2['z']])\n",
    "            distance = np.sqrt(((xyz1 - xyz2)**2).sum())\n",
    "            if distance < DISTANCE_THRESH_CLEAR:\n",
    "                if c1['confidence'] < c2['confidence']:\n",
    "                    c1['confidence'] = -1\n",
    "    return [c for c in coords if c['confidence'] > 0]\n",
    "\n",
    "# def extract_coords(prediction, threshold):\n",
    "#     logits = prediction[0]\n",
    "#     regr_output = prediction[1:]\n",
    "#     points = np.argwhere(logits > threshold)\n",
    "#     col_names = sorted(['x', 'y', 'z', 'yaw', 'pitch_sin', 'pitch_cos', 'roll'])\n",
    "#     coords = []\n",
    "#     for r, c in points:\n",
    "#         regr_dict = dict(zip(col_names, regr_output[:, r, c]))\n",
    "#         coords.append(_regr_back(regr_dict))\n",
    "#         coords[-1]['confidence'] = 1 / (1 + np.exp(-logits[r, c]))\n",
    "#         coords[-1]['x'], coords[-1]['y'], coords[-1]['z'] = optimize_xy(r, c, coords[-1]['x'], coords[-1]['y'], coords[-1]['z'])\n",
    "#     coords = clear_duplicates(coords)\n",
    "#     return coords\n",
    "\n",
    "def coords2str(coords, names=['yaw', 'pitch', 'roll', 'x', 'y', 'z', 'confidence']):\n",
    "    s = []\n",
    "    for c in coords:\n",
    "        for n in names:\n",
    "            s.append(str(c.get(n, 0)))\n",
    "    return ' '.join(s)"
   ]
  },
  {
   "cell_type": "code",
   "execution_count": null,
   "metadata": {},
   "outputs": [],
   "source": [
    "# import gc\n",
    "\n",
    "# torch.cuda.empty_cache()\n",
    "# gc.collect()\n",
    "\n",
    "# for idx in range(8):\n",
    "#     img, mask, regr = dev_dataset[idx]\n",
    "    \n",
    "#     output = model(torch.tensor(img[None]).to(device)).data.cpu().numpy()\n",
    "#     coords_pred = extract_coords(output[0])\n",
    "#     coords_true = extract_coords(np.concatenate([mask[None], regr], 0))\n",
    "    \n",
    "#     img = imread(train_images_dir.format(df_dev['ImageId'].iloc[idx]))\n",
    "    \n",
    "#     fig, axes = plt.subplots(1, 2, figsize=(30,30))\n",
    "#     axes[0].set_title('Ground truth')\n",
    "#     axes[0].imshow(visualize(img, coords_true))\n",
    "#     axes[1].set_title('Prediction')\n",
    "#     axes[1].imshow(visualize(img, coords_pred))\n",
    "#     plt.show()"
   ]
  },
  {
   "cell_type": "code",
   "execution_count": null,
   "metadata": {},
   "outputs": [],
   "source": []
  },
  {
   "cell_type": "code",
   "execution_count": null,
   "metadata": {},
   "outputs": [],
   "source": [
    "# model.load_state_dict(torch.load('./modelGaussian.pth'))\n",
    "# model.eval()"
   ]
  },
  {
   "cell_type": "markdown",
   "metadata": {},
   "source": [
    "# Evaluation"
   ]
  },
  {
   "cell_type": "code",
   "execution_count": 51,
   "metadata": {},
   "outputs": [],
   "source": [
    "import numpy as np # linear algebra\n",
    "import pandas as pd # data processing, CSV file I/O (e.g. pd.read_csv)\n",
    "from math import sqrt, acos, pi, sin, cos\n",
    "from scipy.spatial.transform import Rotation as R\n",
    "from sklearn.metrics import average_precision_score\n",
    "from sklearn.metrics import precision_recall_curve\n",
    "from inspect import signature\n",
    "import matplotlib.pyplot as plt\n",
    "from multiprocessing import Pool\n",
    "\n",
    "def expand_df(df, PredictionStringCols):\n",
    "    df = df.dropna().copy()\n",
    "    df['NumCars'] = [int((x.count(' ')+1)/7) for x in df['PredictionString']]\n",
    "\n",
    "    image_id_expanded = [item for item, count in zip(df['ImageId'], df['NumCars']) for i in range(count)]\n",
    "    prediction_strings_expanded = df['PredictionString'].str.split(' ',expand = True).values.reshape(-1,7).astype(float)\n",
    "    prediction_strings_expanded = prediction_strings_expanded[~np.isnan(prediction_strings_expanded).all(axis=1)]\n",
    "    df = pd.DataFrame(\n",
    "        {\n",
    "            'ImageId': image_id_expanded,\n",
    "            PredictionStringCols[0]:prediction_strings_expanded[:,0],\n",
    "            PredictionStringCols[1]:prediction_strings_expanded[:,1],\n",
    "            PredictionStringCols[2]:prediction_strings_expanded[:,2],\n",
    "            PredictionStringCols[3]:prediction_strings_expanded[:,3],\n",
    "            PredictionStringCols[4]:prediction_strings_expanded[:,4],\n",
    "            PredictionStringCols[5]:prediction_strings_expanded[:,5],\n",
    "            PredictionStringCols[6]:prediction_strings_expanded[:,6]\n",
    "        })\n",
    "    return df\n",
    "\n",
    "#def str2coords(s, names):\n",
    "#    coords = []\n",
    "#    for l in np.array(s.split()).reshape([-1, 7]):\n",
    "#        coords.append(dict(zip(names, l.astype('float'))))\n",
    "#    return coords\n",
    "\n",
    "def TranslationDistance(p,g, abs_dist = False):\n",
    "    dx = p['x'] - g['x']\n",
    "    dy = p['y'] - g['y']\n",
    "    dz = p['z'] - g['z']\n",
    "    diff0 = (g['x']**2 + g['y']**2 + g['z']**2)**0.5\n",
    "    diff1 = (dx**2 + dy**2 + dz**2)**0.5\n",
    "    if abs_dist:\n",
    "        diff = diff1\n",
    "    else:\n",
    "        diff = diff1/diff0\n",
    "    return diff\n",
    "\n",
    "def RotationDistance(p, g):\n",
    "    true=[ g['pitch'] ,g['yaw'] ,g['roll'] ]\n",
    "    pred=[ p['pitch'] ,p['yaw'] ,p['roll'] ]\n",
    "    q1 = R.from_euler('xyz', true)\n",
    "    q2 = R.from_euler('xyz', pred)\n",
    "    diff = R.inv(q2) * q1\n",
    "    W = np.clip(diff.as_quat()[-1], -1., 1.)\n",
    "    \n",
    "    # in the official metrics code:\n",
    "    # https://www.kaggle.com/c/pku-autonomous-driving/overview/evaluation\n",
    "    #   return Object3D.RadianToDegree( Math.Acos(diff.W) )\n",
    "    # this code treat θ and θ+2π differntly.\n",
    "    # So this should be fixed as follows.\n",
    "    W = (acos(W)*360)/pi\n",
    "    if W > 180:\n",
    "        W = 360 - W\n",
    "    return W\n",
    "\n",
    "def print_pr_curve(result_flg, scores, recall_total=1):\n",
    "    average_precision = average_precision_score(result_flg, scores)\n",
    "    precision, recall, _ = precision_recall_curve(result_flg, scores)\n",
    "    recall *= recall_total\n",
    "    plt.step(recall, precision, color='b', alpha=0.2, where='post')\n",
    "    plt.fill_between(recall, precision, alpha=0.2, color='b')\n",
    "    plt.xlabel('Recall')\n",
    "    plt.ylabel('Precision')\n",
    "    plt.ylim([0.0, 1.05])\n",
    "    plt.xlim([0.0, 1.0])\n",
    "    plt.show()"
   ]
  },
  {
   "cell_type": "code",
   "execution_count": 52,
   "metadata": {},
   "outputs": [],
   "source": [
    "thres_tr_list = [0.1, 0.09, 0.08, 0.07, 0.06, 0.05, 0.04, 0.03, 0.02, 0.01]\n",
    "thres_ro_list = [50, 45, 40, 35, 30, 25, 20, 15, 10, 5]\n",
    "\n",
    "def check_match(idx):\n",
    "    keep_gt=False\n",
    "    thre_tr_dist = thres_tr_list[idx]\n",
    "    thre_ro_dist = thres_ro_list[idx]\n",
    "    train_dict = {imgID:str2coords(s, names=['carid_or_score', 'pitch', 'yaw', 'roll', 'x', 'y', 'z']) for imgID,s in zip(train_df['ImageId'],train_df['PredictionString'])}\n",
    "    valid_dict = {imgID:str2coords(s, names=['pitch', 'yaw', 'roll', 'x', 'y', 'z', 'carid_or_score']) for imgID,s in zip(valid_df['ImageId'],valid_df['PredictionString'])}\n",
    "    result_flg = [] # 1 for TP, 0 for FP\n",
    "    scores = []\n",
    "    MAX_VAL = 10**10\n",
    "    for img_id in valid_dict:\n",
    "        for pcar in sorted(valid_dict[img_id], key=lambda x: -x['carid_or_score']):\n",
    "            # find nearest GT\n",
    "            min_tr_dist = MAX_VAL\n",
    "            min_idx = -1\n",
    "            for idx, gcar in enumerate(train_dict[img_id]):\n",
    "                tr_dist = TranslationDistance(pcar,gcar)\n",
    "                if tr_dist < min_tr_dist:\n",
    "                    min_tr_dist = tr_dist\n",
    "                    min_ro_dist = RotationDistance(pcar,gcar)\n",
    "                    min_idx = idx\n",
    "                    \n",
    "            # set the result\n",
    "            if min_tr_dist < thre_tr_dist and min_ro_dist < thre_ro_dist:\n",
    "                if not keep_gt:\n",
    "                    train_dict[img_id].pop(min_idx)\n",
    "                result_flg.append(1)\n",
    "            else:\n",
    "                result_flg.append(0)\n",
    "            scores.append(pcar['carid_or_score'])\n",
    "    \n",
    "    return result_flg, scores\n"
   ]
  },
  {
   "cell_type": "markdown",
   "metadata": {},
   "source": [
    "# validation prediction"
   ]
  },
  {
   "cell_type": "code",
   "execution_count": 53,
   "metadata": {},
   "outputs": [],
   "source": [
    "def peak(out, threshold1, threshold2):\n",
    "    (xlist, ylist) = np.where(out[0]>np.sort(out[0].reshape((1,-1)))[0][-200])\n",
    "    peak_array = array\n",
    "    maximum = out.max()\n",
    "    for k in range(len(xlist)):\n",
    "        idx = 0\n",
    "        i = xlist[k]\n",
    "        j = ylist[k]\n",
    "        try:\n",
    "            array[i-1,j-1]\n",
    "            array[i+1,j+1]\n",
    "        except:\n",
    "            continue\n",
    "        if int(array[i,j]>=array[i-1,j]-1)+int(array[i,j]>=array[i+1,j]-1)+\\\n",
    "                int(array[i,j]>=array[i,j-1]-1)+int(array[i,j]>=array[i,j+1]-1) == 4:\n",
    "            idx += 1\n",
    "        if idx==1 and array[i,j]>threshold1-2:\n",
    "            peak_array[i,j]+=(maximum - peak_array[i,j])/2\n",
    "        #if array[i,j]>threshold1+threshold2: #1.5\n",
    "        #    pass#peak_array[i,j]+=0.5 #1\n",
    "    return peak_array"
   ]
  },
  {
   "cell_type": "code",
   "execution_count": 54,
   "metadata": {},
   "outputs": [],
   "source": [
    "def extract_coords(prediction, threshold1, threshold2):\n",
    "    logits = prediction[0] #peak(prediction[0], threshold1, threshold2)#prediction[0]#peak(prediction[0], threshold1, threshold2)##peak(prediction[0], threshold1, threshold2)\n",
    "    regr_output = prediction[1:]\n",
    "    points = np.argwhere(logits > -2)\n",
    "    col_names = sorted(['x', 'y', 'z', 'yaw', 'pitch_sin', 'pitch_cos', 'roll'])\n",
    "    coords = []\n",
    "    for r, c in points:\n",
    "        regr_dict = dict(zip(col_names, regr_output[:, r, c]))\n",
    "        coords.append(_regr_back(regr_dict))\n",
    "        coords[-1]['confidence'] = 1 / (1 + np.exp(-logits[r, c]))\n",
    "        coords[-1]['x'], coords[-1]['y'], coords[-1]['z'] = optimize_xy(r, c, coords[-1]['x'], coords[-1]['y'], coords[-1]['z'])\n",
    "    coords = clear_duplicates(coords)\n",
    "    return coords"
   ]
  },
  {
   "cell_type": "code",
   "execution_count": 55,
   "metadata": {},
   "outputs": [],
   "source": [
    "threshold1 = 2\n",
    "threshold2 = 0"
   ]
  },
  {
   "cell_type": "code",
   "execution_count": 56,
   "metadata": {},
   "outputs": [],
   "source": [
    "# map: 0.10844716601852893 # -2\n",
    "# map: 0.11908345067814112 # -3\n",
    "# map: 0.1279842909587167  # -4\n",
    "# map: 0.13395854895945764 # -5 \n",
    "# map: 0.1383288800848642  # -6\n",
    "# map: 0.14158187970998287 # -7"
   ]
  },
  {
   "cell_type": "code",
   "execution_count": null,
   "metadata": {},
   "outputs": [],
   "source": []
  },
  {
   "cell_type": "code",
   "execution_count": null,
   "metadata": {},
   "outputs": [],
   "source": []
  },
  {
   "cell_type": "code",
   "execution_count": null,
   "metadata": {},
   "outputs": [],
   "source": []
  },
  {
   "cell_type": "code",
   "execution_count": null,
   "metadata": {},
   "outputs": [],
   "source": []
  },
  {
   "cell_type": "code",
   "execution_count": 78,
   "metadata": {},
   "outputs": [
    {
     "data": {
      "text/plain": [
       "torch.Size([4, 8, 64, 256])"
      ]
     },
     "execution_count": 78,
     "metadata": {},
     "output_type": "execute_result"
    }
   ],
   "source": [
    "output.shape"
   ]
  },
  {
   "cell_type": "code",
   "execution_count": null,
   "metadata": {},
   "outputs": [],
   "source": []
  },
  {
   "cell_type": "code",
   "execution_count": 86,
   "metadata": {},
   "outputs": [
    {
     "data": {
      "text/plain": [
       "torch.Size([1, 8, 64, 256])"
      ]
     },
     "execution_count": 86,
     "metadata": {},
     "output_type": "execute_result"
    }
   ],
   "source": [
    "output[0]['hm'].shape"
   ]
  },
  {
   "cell_type": "code",
   "execution_count": 79,
   "metadata": {},
   "outputs": [
    {
     "data": {
      "text/plain": [
       "(64, 256)"
      ]
     },
     "execution_count": 79,
     "metadata": {},
     "output_type": "execute_result"
    }
   ],
   "source": [
    "mask.shape"
   ]
  },
  {
   "cell_type": "code",
   "execution_count": 80,
   "metadata": {},
   "outputs": [
    {
     "data": {
      "text/plain": [
       "(7, 64, 256)"
      ]
     },
     "execution_count": 80,
     "metadata": {},
     "output_type": "execute_result"
    }
   ],
   "source": [
    "regr.shape"
   ]
  },
  {
   "cell_type": "code",
   "execution_count": 90,
   "metadata": {},
   "outputs": [
    {
     "data": {
      "text/plain": [
       "(1, 3, 512, 2048)"
      ]
     },
     "execution_count": 90,
     "metadata": {},
     "output_type": "execute_result"
    }
   ],
   "source": [
    "img[None].shape"
   ]
  },
  {
   "cell_type": "code",
   "execution_count": null,
   "metadata": {},
   "outputs": [],
   "source": []
  },
  {
   "cell_type": "code",
   "execution_count": 82,
   "metadata": {
    "scrolled": false
   },
   "outputs": [
    {
     "data": {
      "image/png": "[encoded data removed]",
      "text/plain": [
       "<Figure size 1152x1152 with 1 Axes>"
      ]
     },
     "metadata": {
      "needs_background": "light"
     },
     "output_type": "display_data"
    },
    {
     "ename": "TypeError",
     "evalue": "list indices must be integers or slices, not tuple",
     "output_type": "error",
     "traceback": [
      "\u001b[0;31m---------------------------------------------------------------------------\u001b[0m",
      "\u001b[0;31mTypeError\u001b[0m                                 Traceback (most recent call last)",
      "\u001b[0;32m<ipython-input-82-79972f877ff2>\u001b[0m in \u001b[0;36m<module>\u001b[0;34m\u001b[0m\n\u001b[1;32m     13\u001b[0m \u001b[0;34m\u001b[0m\u001b[0m\n\u001b[1;32m     14\u001b[0m     \u001b[0moutput\u001b[0m \u001b[0;34m=\u001b[0m \u001b[0mmodel\u001b[0m\u001b[0;34m(\u001b[0m\u001b[0mtorch\u001b[0m\u001b[0;34m.\u001b[0m\u001b[0mtensor\u001b[0m\u001b[0;34m(\u001b[0m\u001b[0mimg\u001b[0m\u001b[0;34m[\u001b[0m\u001b[0;32mNone\u001b[0m\u001b[0;34m]\u001b[0m\u001b[0;34m)\u001b[0m\u001b[0;34m.\u001b[0m\u001b[0mto\u001b[0m\u001b[0;34m(\u001b[0m\u001b[0mdevice\u001b[0m\u001b[0;34m)\u001b[0m\u001b[0;34m)\u001b[0m\u001b[0;34m\u001b[0m\u001b[0;34m\u001b[0m\u001b[0m\n\u001b[0;32m---> 15\u001b[0;31m     \u001b[0mlogits\u001b[0m \u001b[0;34m=\u001b[0m \u001b[0moutput\u001b[0m\u001b[0;34m[\u001b[0m\u001b[0;36m0\u001b[0m\u001b[0;34m,\u001b[0m\u001b[0;36m0\u001b[0m\u001b[0;34m]\u001b[0m\u001b[0;34m.\u001b[0m\u001b[0mdata\u001b[0m\u001b[0;34m.\u001b[0m\u001b[0mcpu\u001b[0m\u001b[0;34m(\u001b[0m\u001b[0;34m)\u001b[0m\u001b[0;34m.\u001b[0m\u001b[0mnumpy\u001b[0m\u001b[0;34m(\u001b[0m\u001b[0;34m)\u001b[0m\u001b[0;34m\u001b[0m\u001b[0;34m\u001b[0m\u001b[0m\n\u001b[0m\u001b[1;32m     16\u001b[0m \u001b[0;34m\u001b[0m\u001b[0m\n\u001b[1;32m     17\u001b[0m     \u001b[0;31m#plt.figure(figsize=(16,16))\u001b[0m\u001b[0;34m\u001b[0m\u001b[0;34m\u001b[0m\u001b[0;34m\u001b[0m\u001b[0m\n",
      "\u001b[0;31mTypeError\u001b[0m: list indices must be integers or slices, not tuple"
     ]
    }
   ],
   "source": [
    "for i in range(40,50):\n",
    "    img, mask, regr = train_dataset[i]\n",
    "\n",
    "    #plt.figure(figsize=(16,16))\n",
    "    #plt.title('Input image')\n",
    "    #plt.imshow(np.rollaxis(img, 0, 3))\n",
    "    #plt.show()\n",
    "\n",
    "    plt.figure(figsize=(16,16))\n",
    "    plt.title('Ground truth mask')\n",
    "    plt.imshow(mask)\n",
    "    plt.show()\n",
    "\n",
    "    output = model(torch.tensor(img[None]).to(device))\n",
    "    logits = output[0,0].data.cpu().numpy()\n",
    "\n",
    "    #plt.figure(figsize=(16,16))\n",
    "    #plt.title('Model predictions')\n",
    "    #plt.imshow(logits)\n",
    "    #plt.show()\n",
    "\n",
    "    plt.figure(figsize=(16,16))\n",
    "    plt.title('Model predictions thresholded')\n",
    "    plt.imshow(logits>-2)\n",
    "    plt.show()\n",
    "    \n",
    "    plt.figure(figsize=(16,16))\n",
    "    plt.title('New')\n",
    "    plt.imshow(peak(logits,threshold1,threshold2)>-2)\n",
    "    plt.show()"
   ]
  },
  {
   "cell_type": "code",
   "execution_count": null,
   "metadata": {},
   "outputs": [],
   "source": []
  },
  {
   "cell_type": "code",
   "execution_count": null,
   "metadata": {},
   "outputs": [],
   "source": []
  },
  {
   "cell_type": "code",
   "execution_count": null,
   "metadata": {},
   "outputs": [],
   "source": []
  },
  {
   "cell_type": "code",
   "execution_count": 103,
   "metadata": {
    "scrolled": false
   },
   "outputs": [
    {
     "data": {
      "image/png": "[encoded data removed]",
      "text/plain": [
       "<Figure size 1152x1152 with 1 Axes>"
      ]
     },
     "metadata": {
      "needs_background": "light"
     },
     "output_type": "display_data"
    },
    {
     "ename": "TypeError",
     "evalue": "list indices must be integers or slices, not tuple",
     "output_type": "error",
     "traceback": [
      "\u001b[0;31m---------------------------------------------------------------------------\u001b[0m",
      "\u001b[0;31mTypeError\u001b[0m                                 Traceback (most recent call last)",
      "\u001b[0;32m<ipython-input-103-79972f877ff2>\u001b[0m in \u001b[0;36m<module>\u001b[0;34m\u001b[0m\n\u001b[1;32m     13\u001b[0m \u001b[0;34m\u001b[0m\u001b[0m\n\u001b[1;32m     14\u001b[0m     \u001b[0moutput\u001b[0m \u001b[0;34m=\u001b[0m \u001b[0mmodel\u001b[0m\u001b[0;34m(\u001b[0m\u001b[0mtorch\u001b[0m\u001b[0;34m.\u001b[0m\u001b[0mtensor\u001b[0m\u001b[0;34m(\u001b[0m\u001b[0mimg\u001b[0m\u001b[0;34m[\u001b[0m\u001b[0;32mNone\u001b[0m\u001b[0;34m]\u001b[0m\u001b[0;34m)\u001b[0m\u001b[0;34m.\u001b[0m\u001b[0mto\u001b[0m\u001b[0;34m(\u001b[0m\u001b[0mdevice\u001b[0m\u001b[0;34m)\u001b[0m\u001b[0;34m)\u001b[0m\u001b[0;34m\u001b[0m\u001b[0;34m\u001b[0m\u001b[0m\n\u001b[0;32m---> 15\u001b[0;31m     \u001b[0mlogits\u001b[0m \u001b[0;34m=\u001b[0m \u001b[0moutput\u001b[0m\u001b[0;34m[\u001b[0m\u001b[0;36m0\u001b[0m\u001b[0;34m,\u001b[0m\u001b[0;36m0\u001b[0m\u001b[0;34m]\u001b[0m\u001b[0;34m.\u001b[0m\u001b[0mdata\u001b[0m\u001b[0;34m.\u001b[0m\u001b[0mcpu\u001b[0m\u001b[0;34m(\u001b[0m\u001b[0;34m)\u001b[0m\u001b[0;34m.\u001b[0m\u001b[0mnumpy\u001b[0m\u001b[0;34m(\u001b[0m\u001b[0;34m)\u001b[0m\u001b[0;34m\u001b[0m\u001b[0;34m\u001b[0m\u001b[0m\n\u001b[0m\u001b[1;32m     16\u001b[0m \u001b[0;34m\u001b[0m\u001b[0m\n\u001b[1;32m     17\u001b[0m     \u001b[0;31m#plt.figure(figsize=(16,16))\u001b[0m\u001b[0;34m\u001b[0m\u001b[0;34m\u001b[0m\u001b[0;34m\u001b[0m\u001b[0m\n",
      "\u001b[0;31mTypeError\u001b[0m: list indices must be integers or slices, not tuple"
     ]
    }
   ],
   "source": [
    "for i in range(40,50):\n",
    "    img, mask, regr = train_dataset[i]\n",
    "\n",
    "    #plt.figure(figsize=(16,16))\n",
    "    #plt.title('Input image')\n",
    "    #plt.imshow(np.rollaxis(img, 0, 3))\n",
    "    #plt.show()\n",
    "\n",
    "    plt.figure(figsize=(16,16))\n",
    "    plt.title('Ground truth mask')\n",
    "    plt.imshow(mask)\n",
    "    plt.show()\n",
    "\n",
    "    output = model(torch.tensor(img[None]).to(device))\n",
    "    logits = output[0,0].data.cpu().numpy()\n",
    "\n",
    "    #plt.figure(figsize=(16,16))\n",
    "    #plt.title('Model predictions')\n",
    "    #plt.imshow(logits)\n",
    "    #plt.show()\n",
    "\n",
    "    plt.figure(figsize=(16,16))\n",
    "    plt.title('Model predictions thresholded')\n",
    "    plt.imshow(logits>-2)\n",
    "    plt.show()\n",
    "    \n",
    "    plt.figure(figsize=(16,16))\n",
    "    plt.title('New')\n",
    "    plt.imshow(peak(logits,threshold1,threshold2)>-2)\n",
    "    plt.show()"
   ]
  },
  {
   "cell_type": "code",
   "execution_count": null,
   "metadata": {},
   "outputs": [],
   "source": []
  },
  {
   "cell_type": "code",
   "execution_count": 102,
   "metadata": {},
   "outputs": [],
   "source": [
    "def extract_coords(prediction, threshold1, threshold2):\n",
    "    logits = peak(prediction[0], threshold1, threshold2)#prediction[0] ##prediction[0]#peak(prediction[0], threshold1, threshold2)##peak(prediction[0], threshold1, threshold2)\n",
    "    regr_output = prediction[1:]\n",
    "    points = np.argwhere(logits > -2)\n",
    "    col_names = sorted(['x', 'y', 'z', 'yaw', 'pitch_sin', 'pitch_cos', 'roll'])\n",
    "    coords = []\n",
    "    print(points)\n",
    "    for r, c in points:\n",
    "        regr_dict = dict(zip(col_names, regr_output[:, r, c]))\n",
    "        coords.append(_regr_back(regr_dict))\n",
    "        coords[-1]['confidence'] = 1 / (1 + np.exp(-logits[r, c]))\n",
    "        coords[-1]['x'], coords[-1]['y'], coords[-1]['z'] = optimize_xy(r, c, coords[-1]['x'], coords[-1]['y'], coords[-1]['z'])\n",
    "    coords = clear_duplicates(coords)\n",
    "    return coords"
   ]
  },
  {
   "cell_type": "code",
   "execution_count": null,
   "metadata": {},
   "outputs": [],
   "source": []
  },
  {
   "cell_type": "code",
   "execution_count": null,
   "metadata": {},
   "outputs": [],
   "source": []
  },
  {
   "cell_type": "markdown",
   "metadata": {},
   "source": [
    "# Make submission"
   ]
  },
  {
   "cell_type": "code",
   "execution_count": null,
   "metadata": {},
   "outputs": [],
   "source": [
    "predictions = []\n",
    "\n",
    "test_loader = DataLoader(dataset=test_dataset, batch_size=4, shuffle=False, num_workers=4)\n",
    "\n",
    "model.eval()\n",
    "\n",
    "for img, _, _ in tqdm(test_loader):\n",
    "    with torch.no_grad():\n",
    "        output = model(img.to(device))\n",
    "    output = output.data.cpu().numpy()\n",
    "    for out in output:\n",
    "        coords = extract_coords(out,threshold1, threshold2)\n",
    "        s = coords2str(coords)\n",
    "        predictions.append(s)\n",
    "        \n",
    "test = pd.read_csv(PATH + 'sample_submission.csv')\n",
    "test['PredictionString'] = predictions\n",
    "test.to_csv('predictions'+'_'+str(threshold1)+'.csv', index=False)\n",
    "test.head()"
   ]
  },
  {
   "cell_type": "code",
   "execution_count": null,
   "metadata": {},
   "outputs": [],
   "source": []
  },
  {
   "cell_type": "code",
   "execution_count": null,
   "metadata": {},
   "outputs": [],
   "source": []
  },
  {
   "cell_type": "code",
   "execution_count": null,
   "metadata": {},
   "outputs": [],
   "source": []
  },
  {
   "cell_type": "code",
   "execution_count": null,
   "metadata": {},
   "outputs": [],
   "source": [
    "threshold1 = 1"
   ]
  },
  {
   "cell_type": "code",
   "execution_count": null,
   "metadata": {},
   "outputs": [],
   "source": [
    "predictions = []\n",
    "\n",
    "test_loader = DataLoader(dataset=test_dataset, batch_size=4, shuffle=False, num_workers=4)\n",
    "\n",
    "model.eval()\n",
    "\n",
    "for img, _, _ in tqdm(test_loader):\n",
    "    with torch.no_grad():\n",
    "        output = model(img.to(device))\n",
    "    output = output.data.cpu().numpy()\n",
    "    for out in output:\n",
    "        coords = extract_coords(out,threshold1, threshold2)\n",
    "        s = coords2str(coords)\n",
    "        predictions.append(s)\n",
    "        \n",
    "test = pd.read_csv(PATH + 'sample_submission.csv')\n",
    "test['PredictionString'] = predictions\n",
    "test.to_csv('predictions'+'_'+str(threshold1)+'.csv', index=False)\n",
    "test.head()"
   ]
  },
  {
   "cell_type": "code",
   "execution_count": null,
   "metadata": {},
   "outputs": [],
   "source": [
    "def extract_coords(prediction, threshold1, threshold2):\n",
    "    logits = peak(prediction[0], threshold1, threshold2) #peak(prediction[0], threshold1, threshold2)#prediction[0]#peak(prediction[0], threshold1, threshold2)##peak(prediction[0], threshold1, threshold2)\n",
    "    regr_output = prediction[1:]\n",
    "    points = np.argwhere(logits > -2)\n",
    "    col_names = sorted(['x', 'y', 'z', 'yaw', 'pitch_sin', 'pitch_cos', 'roll'])\n",
    "    coords = []\n",
    "    for r, c in points:\n",
    "        regr_dict = dict(zip(col_names, regr_output[:, r, c]))\n",
    "        coords.append(_regr_back(regr_dict))\n",
    "        coords[-1]['confidence'] = 1 / (1 + np.exp(-logits[r, c]))\n",
    "        coords[-1]['x'], coords[-1]['y'], coords[-1]['z'] = optimize_xy(r, c, coords[-1]['x'], coords[-1]['y'], coords[-1]['z'])\n",
    "    coords = clear_duplicates(coords)\n",
    "    return coords"
   ]
  },
  {
   "cell_type": "code",
   "execution_count": null,
   "metadata": {},
   "outputs": [],
   "source": []
  },
  {
   "cell_type": "code",
   "execution_count": null,
   "metadata": {},
   "outputs": [],
   "source": []
  },
  {
   "cell_type": "code",
   "execution_count": null,
   "metadata": {},
   "outputs": [],
   "source": []
  },
  {
   "cell_type": "code",
   "execution_count": null,
   "metadata": {},
   "outputs": [],
   "source": []
  },
  {
   "cell_type": "code",
   "execution_count": null,
   "metadata": {},
   "outputs": [],
   "source": []
  }
 ],
 "metadata": {
  "kernelspec": {
   "display_name": "CenterNet",
   "language": "python",
   "name": "centernet"
  },
  "language_info": {
   "codemirror_mode": {
    "name": "ipython",
    "version": 3
   },
   "file_extension": ".py",
   "mimetype": "text/x-python",
   "name": "python",
   "nbconvert_exporter": "python",
   "pygments_lexer": "ipython3",
   "version": "3.6.9"
  }
 },
 "nbformat": 4,
 "nbformat_minor": 1
}
